{
 "cells": [
  {
   "cell_type": "markdown",
   "id": "2900b89e-10ad-4add-ad2a-11bb8cb76d2e",
   "metadata": {
    "tags": []
   },
   "source": [
    "# Ways to the Game of Life -- The First Way\n",
    "\n",
    "> For the things we have to learn before we can do them, we learn by doing them.\n",
    "> -Aristotle\n",
    "\n",
    "*Here we set out to create Conway's Game of Life in Python, our goal being to learn Python along the way. No previous programming knowledge is needed on the part of the reader; only a willingness to learn by (failing) doing.*\n",
    "\n",
    "In this notebook I introduce the rules of the Game of Life, then demonstrate how we might go about implementing this simulation game in Python. We run into some problems with our approach, which we propose as an exercise for students to resolve.\n",
    "\n",
    "This notebook is the first of a series, and in the subsequent notebooks we will improve upon our Game of Life implementation as we expand our Python horizons."
   ]
  },
  {
   "cell_type": "markdown",
   "id": "dd4611b0",
   "metadata": {
    "pycharm": {
     "name": "#%% md\n"
    }
   },
   "source": [
    "### A Solution by Hand\n",
    "\n",
    "You should first read all about the Game of Life at [Wikipedia](https://en.wikipedia.org/wiki/Conway%27s_Game_of_Life).\n",
    "\n",
    "The game takes place on a 2-dimensional grid of cells, at each iteration\n",
    "we enforce the following rules (from the wiki):\n",
    "\n",
    "1. Any live cell with two or three live neighbors survives.\n",
    "1. Any dead cell with three live neighbors becomes a live cell.\n",
    "1. All other live cells die in the next generation. Similarly, all other\n",
    "   dead cells stay dead.\n",
    "\n",
    "For my by-hand solution I am going to use a 5 by 5 grid:\n",
    "\n",
    "I place a few cells on the grid. It occurs to me that all rules require\n",
    "knowing the neighbor count, so I do this step first:\n",
    "\n",
    "<img src=\"figures/cnt_nbrs.png\" alt=\"Count Neighbors\" width=\"800\"/>\n",
    "\n",
    "Afterwards I consult the rules above to determine the fate of these cells.\n",
    "\n",
    "<img src=\"figures/apply_rules.png\" alt=\"Apply Rules\" width=\"800\"/>\n",
    "\n",
    "While that was easy enough, the process gives us some insight:\n",
    "+ A dead cell is the same as an empty cell.\n",
    "+ We will count the number of neighbors of all cells, and at\n",
    "  least a few of the empty or dead cells."
   ]
  },
  {
   "cell_type": "markdown",
   "id": "7aea3a79",
   "metadata": {
    "pycharm": {
     "name": "#%% md\n"
    }
   },
   "source": [
    "### Mapping our Solution\n",
    "\n",
    "What data must we model here?\n",
    "+ At the very least we must know the positions of the live cells,\n",
    "  we could also model a contained world.\n",
    "+ We must know if a cell is alive or dead / empty.\n",
    "\n",
    "What functions does our solution imply?\n",
    "+ `count_neighbors()`\n",
    "+ `apply_rules()`\n",
    "\n",
    "What inputs should they take? I don't expect you to know this, but\n",
    "perhaps you can intuit that it would be nice if both of these\n",
    "functions took the same type of object as an argument, that object\n",
    "being however we are representing our world.\n",
    "\n",
    "Now, if you are truly new to programming that is probably about as\n",
    "far into planning as you can get without reading documentation. We\n",
    "are going to try to learn by doing here, so try first then read\n",
    "the documentation second.\n",
    "\n",
    "To make this lesson tractable I am going to provide guidance more\n",
    "specific than our generalized learning by doing process:\n",
    "+ Use only the builtins below, this means you should compose your\n",
    "  program entirely out of the snippets below. All the pieces and\n",
    "  the needed functionality is shown below.\n"
   ]
  },
  {
   "cell_type": "markdown",
   "id": "ea15c94e",
   "metadata": {},
   "source": [
    "### Implement our Solution\n",
    "\n",
    "I have gone and done something you are sure to repeat at some point.\n",
    "I made an incomplete plan! This happens quite a bit to newer programmers\n",
    "because they don't yet know what form their data will take!\n",
    "\n",
    "So here we are going to explore just enough so as to be able to go back\n",
    "to our solution mapping step.\n",
    "\n",
    "Let's start as small as possible, what should a single cell be modeled as?\n",
    "Of then object types I have made available you have strings, booleans and\n",
    "integers. While any of them would work, boolean and integer values turn\n",
    "out to be easier to work with when it comes to counting.\n",
    "\n",
    "> Should the last entry in a given code cell not be a definition, the Python\n",
    "interpreter displays a representation of that entry."
   ]
  },
  {
   "cell_type": "code",
   "execution_count": 1,
   "id": "10395a72",
   "metadata": {
    "collapsed": false,
    "jupyter": {
     "outputs_hidden": false
    },
    "pycharm": {
     "name": "#%%\n"
    }
   },
   "outputs": [
    {
     "data": {
      "text/plain": [
       "0"
      ]
     },
     "execution_count": 1,
     "metadata": {},
     "output_type": "execute_result"
    }
   ],
   "source": [
    "# A dead or empty cell.\n",
    "0"
   ]
  },
  {
   "cell_type": "code",
   "execution_count": 2,
   "id": "fbf7bce1",
   "metadata": {
    "collapsed": false,
    "jupyter": {
     "outputs_hidden": false
    },
    "pycharm": {
     "name": "#%%\n"
    }
   },
   "outputs": [
    {
     "data": {
      "text/plain": [
       "1"
      ]
     },
     "execution_count": 2,
     "metadata": {},
     "output_type": "execute_result"
    }
   ],
   "source": [
    "# An alive cell.\n",
    "1"
   ]
  },
  {
   "cell_type": "markdown",
   "id": "c61a8cdb",
   "metadata": {
    "pycharm": {
     "name": "#%% md\n"
    }
   },
   "source": [
    "I have made a big deal of object types, you may not yet understand\n",
    "what an object is, but we can make sure you know how to find out\n",
    "what *type* of object it is. Behold, one of the most useful builtin\n",
    "learning tools:"
   ]
  },
  {
   "cell_type": "code",
   "execution_count": 3,
   "id": "8ed3bedf",
   "metadata": {
    "collapsed": false,
    "jupyter": {
     "outputs_hidden": false
    },
    "pycharm": {
     "name": "#%%\n"
    }
   },
   "outputs": [
    {
     "data": {
      "text/plain": [
       "int"
      ]
     },
     "execution_count": 3,
     "metadata": {},
     "output_type": "execute_result"
    }
   ],
   "source": [
    "type(0)"
   ]
  },
  {
   "cell_type": "markdown",
   "id": "ee307070",
   "metadata": {
    "pycharm": {
     "name": "#%% md\n"
    }
   },
   "source": [
    "Between `type` and `help` you should be able make some progress."
   ]
  },
  {
   "cell_type": "code",
   "execution_count": 15,
   "id": "dca81c07",
   "metadata": {
    "collapsed": false,
    "jupyter": {
     "outputs_hidden": false
    },
    "pycharm": {
     "name": "#%%\n"
    }
   },
   "outputs": [
    {
     "name": "stdout",
     "output_type": "stream",
     "text": [
      "Help on int object:\n",
      "\n",
      "class int(object)\n",
      " |  int([x]) -> integer\n",
      " |  int(x, base=10) -> integer\n",
      " |  \n",
      " |  Convert a number or string to an integer, or return 0 if no arguments\n",
      " |  are given.  If x is a number, return x.__int__().  For floating point\n",
      " |  numbers, this truncates towards zero.\n",
      " |  \n",
      " |  If x is not a number or if base is given, then x must be a string,\n",
      " |  bytes, or bytearray instance representing an integer literal in the\n",
      " |  given base.  The literal can be preceded by '+' or '-' and be surrounded\n",
      " |  by whitespace.  The base defaults to 10.  Valid bases are 0 and 2-36.\n",
      " |  Base 0 means to interpret the base from the string as an integer literal.\n",
      " |  >>> int('0b100', base=0)\n",
      " |  4\n",
      " |  \n",
      " |  Built-in subclasses:\n",
      " |      bool\n",
      " |  \n",
      " |  Methods defined here:\n",
      " |  \n",
      " |  __abs__(self, /)\n",
      " |      abs(self)\n",
      " |  \n",
      " |  __add__(self, value, /)\n",
      " |      Return self+value.\n",
      " |  \n",
      " |  __and__(self, value, /)\n",
      " |      Return self&value.\n",
      " |  \n",
      " |  __bool__(self, /)\n",
      " |      self != 0\n",
      " |  \n",
      " |  __ceil__(...)\n",
      " |      Ceiling of an Integral returns itself.\n",
      " |  \n",
      " |  __divmod__(self, value, /)\n",
      " |      Return divmod(self, value).\n",
      " |  \n",
      " |  __eq__(self, value, /)\n",
      " |      Return self==value.\n",
      " |  \n",
      " |  __float__(self, /)\n",
      " |      float(self)\n",
      " |  \n",
      " |  __floor__(...)\n",
      " |      Flooring an Integral returns itself.\n",
      " |  \n",
      " |  __floordiv__(self, value, /)\n",
      " |      Return self//value.\n",
      " |  \n",
      " |  __format__(self, format_spec, /)\n",
      " |      Default object formatter.\n",
      " |  \n",
      " |  __ge__(self, value, /)\n",
      " |      Return self>=value.\n",
      " |  \n",
      " |  __getattribute__(self, name, /)\n",
      " |      Return getattr(self, name).\n",
      " |  \n",
      " |  __getnewargs__(self, /)\n",
      " |  \n",
      " |  __gt__(self, value, /)\n",
      " |      Return self>value.\n",
      " |  \n",
      " |  __hash__(self, /)\n",
      " |      Return hash(self).\n",
      " |  \n",
      " |  __index__(self, /)\n",
      " |      Return self converted to an integer, if self is suitable for use as an index into a list.\n",
      " |  \n",
      " |  __int__(self, /)\n",
      " |      int(self)\n",
      " |  \n",
      " |  __invert__(self, /)\n",
      " |      ~self\n",
      " |  \n",
      " |  __le__(self, value, /)\n",
      " |      Return self<=value.\n",
      " |  \n",
      " |  __lshift__(self, value, /)\n",
      " |      Return self<<value.\n",
      " |  \n",
      " |  __lt__(self, value, /)\n",
      " |      Return self<value.\n",
      " |  \n",
      " |  __mod__(self, value, /)\n",
      " |      Return self%value.\n",
      " |  \n",
      " |  __mul__(self, value, /)\n",
      " |      Return self*value.\n",
      " |  \n",
      " |  __ne__(self, value, /)\n",
      " |      Return self!=value.\n",
      " |  \n",
      " |  __neg__(self, /)\n",
      " |      -self\n",
      " |  \n",
      " |  __or__(self, value, /)\n",
      " |      Return self|value.\n",
      " |  \n",
      " |  __pos__(self, /)\n",
      " |      +self\n",
      " |  \n",
      " |  __pow__(self, value, mod=None, /)\n",
      " |      Return pow(self, value, mod).\n",
      " |  \n",
      " |  __radd__(self, value, /)\n",
      " |      Return value+self.\n",
      " |  \n",
      " |  __rand__(self, value, /)\n",
      " |      Return value&self.\n",
      " |  \n",
      " |  __rdivmod__(self, value, /)\n",
      " |      Return divmod(value, self).\n",
      " |  \n",
      " |  __repr__(self, /)\n",
      " |      Return repr(self).\n",
      " |  \n",
      " |  __rfloordiv__(self, value, /)\n",
      " |      Return value//self.\n",
      " |  \n",
      " |  __rlshift__(self, value, /)\n",
      " |      Return value<<self.\n",
      " |  \n",
      " |  __rmod__(self, value, /)\n",
      " |      Return value%self.\n",
      " |  \n",
      " |  __rmul__(self, value, /)\n",
      " |      Return value*self.\n",
      " |  \n",
      " |  __ror__(self, value, /)\n",
      " |      Return value|self.\n",
      " |  \n",
      " |  __round__(...)\n",
      " |      Rounding an Integral returns itself.\n",
      " |      Rounding with an ndigits argument also returns an integer.\n",
      " |  \n",
      " |  __rpow__(self, value, mod=None, /)\n",
      " |      Return pow(value, self, mod).\n",
      " |  \n",
      " |  __rrshift__(self, value, /)\n",
      " |      Return value>>self.\n",
      " |  \n",
      " |  __rshift__(self, value, /)\n",
      " |      Return self>>value.\n",
      " |  \n",
      " |  __rsub__(self, value, /)\n",
      " |      Return value-self.\n",
      " |  \n",
      " |  __rtruediv__(self, value, /)\n",
      " |      Return value/self.\n",
      " |  \n",
      " |  __rxor__(self, value, /)\n",
      " |      Return value^self.\n",
      " |  \n",
      " |  __sizeof__(self, /)\n",
      " |      Returns size in memory, in bytes.\n",
      " |  \n",
      " |  __sub__(self, value, /)\n",
      " |      Return self-value.\n",
      " |  \n",
      " |  __truediv__(self, value, /)\n",
      " |      Return self/value.\n",
      " |  \n",
      " |  __trunc__(...)\n",
      " |      Truncating an Integral returns itself.\n",
      " |  \n",
      " |  __xor__(self, value, /)\n",
      " |      Return self^value.\n",
      " |  \n",
      " |  as_integer_ratio(self, /)\n",
      " |      Return integer ratio.\n",
      " |      \n",
      " |      Return a pair of integers, whose ratio is exactly equal to the original int\n",
      " |      and with a positive denominator.\n",
      " |      \n",
      " |      >>> (10).as_integer_ratio()\n",
      " |      (10, 1)\n",
      " |      >>> (-10).as_integer_ratio()\n",
      " |      (-10, 1)\n",
      " |      >>> (0).as_integer_ratio()\n",
      " |      (0, 1)\n",
      " |  \n",
      " |  bit_length(self, /)\n",
      " |      Number of bits necessary to represent self in binary.\n",
      " |      \n",
      " |      >>> bin(37)\n",
      " |      '0b100101'\n",
      " |      >>> (37).bit_length()\n",
      " |      6\n",
      " |  \n",
      " |  conjugate(...)\n",
      " |      Returns self, the complex conjugate of any int.\n",
      " |  \n",
      " |  to_bytes(self, /, length, byteorder, *, signed=False)\n",
      " |      Return an array of bytes representing an integer.\n",
      " |      \n",
      " |      length\n",
      " |        Length of bytes object to use.  An OverflowError is raised if the\n",
      " |        integer is not representable with the given number of bytes.\n",
      " |      byteorder\n",
      " |        The byte order used to represent the integer.  If byteorder is 'big',\n",
      " |        the most significant byte is at the beginning of the byte array.  If\n",
      " |        byteorder is 'little', the most significant byte is at the end of the\n",
      " |        byte array.  To request the native byte order of the host system, use\n",
      " |        `sys.byteorder' as the byte order value.\n",
      " |      signed\n",
      " |        Determines whether two's complement is used to represent the integer.\n",
      " |        If signed is False and a negative integer is given, an OverflowError\n",
      " |        is raised.\n",
      " |  \n",
      " |  ----------------------------------------------------------------------\n",
      " |  Class methods defined here:\n",
      " |  \n",
      " |  from_bytes(bytes, byteorder, *, signed=False) from builtins.type\n",
      " |      Return the integer represented by the given array of bytes.\n",
      " |      \n",
      " |      bytes\n",
      " |        Holds the array of bytes to convert.  The argument must either\n",
      " |        support the buffer protocol or be an iterable object producing bytes.\n",
      " |        Bytes and bytearray are examples of built-in objects that support the\n",
      " |        buffer protocol.\n",
      " |      byteorder\n",
      " |        The byte order used to represent the integer.  If byteorder is 'big',\n",
      " |        the most significant byte is at the beginning of the byte array.  If\n",
      " |        byteorder is 'little', the most significant byte is at the end of the\n",
      " |        byte array.  To request the native byte order of the host system, use\n",
      " |        `sys.byteorder' as the byte order value.\n",
      " |      signed\n",
      " |        Indicates whether two's complement is used to represent the integer.\n",
      " |  \n",
      " |  ----------------------------------------------------------------------\n",
      " |  Static methods defined here:\n",
      " |  \n",
      " |  __new__(*args, **kwargs) from builtins.type\n",
      " |      Create and return a new object.  See help(type) for accurate signature.\n",
      " |  \n",
      " |  ----------------------------------------------------------------------\n",
      " |  Data descriptors defined here:\n",
      " |  \n",
      " |  denominator\n",
      " |      the denominator of a rational number in lowest terms\n",
      " |  \n",
      " |  imag\n",
      " |      the imaginary part of a complex number\n",
      " |  \n",
      " |  numerator\n",
      " |      the numerator of a rational number in lowest terms\n",
      " |  \n",
      " |  real\n",
      " |      the real part of a complex number\n",
      "\n"
     ]
    }
   ],
   "source": [
    "help(0)"
   ]
  },
  {
   "cell_type": "code",
   "execution_count": 16,
   "id": "2075fa0b",
   "metadata": {
    "collapsed": false,
    "jupyter": {
     "outputs_hidden": false
    },
    "pycharm": {
     "name": "#%%\n"
    }
   },
   "outputs": [
    {
     "data": {
      "text/plain": [
       "type"
      ]
     },
     "execution_count": 16,
     "metadata": {},
     "output_type": "execute_result"
    }
   ],
   "source": [
    "type"
   ]
  },
  {
   "cell_type": "code",
   "execution_count": 17,
   "id": "a3a1f02f",
   "metadata": {
    "collapsed": false,
    "jupyter": {
     "outputs_hidden": false
    },
    "pycharm": {
     "name": "#%%\n"
    }
   },
   "outputs": [
    {
     "data": {
      "text/plain": [
       "builtin_function_or_method"
      ]
     },
     "execution_count": 17,
     "metadata": {},
     "output_type": "execute_result"
    }
   ],
   "source": [
    "type(sum)"
   ]
  },
  {
   "cell_type": "code",
   "execution_count": 18,
   "id": "c34ae390",
   "metadata": {
    "collapsed": false,
    "jupyter": {
     "outputs_hidden": false
    },
    "pycharm": {
     "name": "#%%\n"
    }
   },
   "outputs": [
    {
     "data": {
      "text/plain": [
       "type"
      ]
     },
     "execution_count": 18,
     "metadata": {},
     "output_type": "execute_result"
    }
   ],
   "source": [
    "type(list)"
   ]
  },
  {
   "cell_type": "markdown",
   "id": "23fb2894-5ab2-480c-ad66-e7516cee8d65",
   "metadata": {},
   "source": [
    "Now, instead of running all over stackoverflow and the like already,\n",
    "I will just tell you want types of objects we are going to use:\n",
    "\n",
    "+ list\n",
    "+ integers\n",
    "+ range()\n",
    "+ len()\n",
    "+ sum()\n",
    "+ def, return\n",
    "+ for loop"
   ]
  },
  {
   "cell_type": "markdown",
   "id": "a2f6df98-ad7c-48f6-8cef-de11f4eed982",
   "metadata": {},
   "source": [
    "How should we represent the position and state of cells in our world?\n",
    "\n",
    "Why not a grid?\n",
    "\n",
    "IMAGE."
   ]
  },
  {
   "cell_type": "code",
   "execution_count": 5,
   "id": "a9030ad2-e067-4b43-8f68-4fd9b31b7a97",
   "metadata": {},
   "outputs": [
    {
     "data": {
      "text/plain": [
       "[0, 0, 0, 1, 0, 0]"
      ]
     },
     "execution_count": 5,
     "metadata": {},
     "output_type": "execute_result"
    }
   ],
   "source": [
    "[0, 0, 0, 1, 0, 0]"
   ]
  },
  {
   "cell_type": "markdown",
   "id": "2f44c506-f08a-480d-89b9-4696e0b69e4e",
   "metadata": {},
   "source": [
    "That is not a grid... Though perhaps it could be a single row?"
   ]
  },
  {
   "cell_type": "code",
   "execution_count": 6,
   "id": "9aeede5b-052b-4a15-89c8-da22af77bdb3",
   "metadata": {},
   "outputs": [
    {
     "data": {
      "text/plain": [
       "[[0, 0, 0, 0, 0],\n",
       " [0, 1, 1, 0, 0],\n",
       " [0, 1, 0, 0, 1],\n",
       " [0, 0, 0, 1, 1],\n",
       " [1, 0, 1, 1, 1]]"
      ]
     },
     "execution_count": 6,
     "metadata": {},
     "output_type": "execute_result"
    }
   ],
   "source": [
    "grid = [\n",
    "    [0, 0, 0, 0, 0],\n",
    "    [0, 1, 1, 0, 0],\n",
    "    [0, 1, 0, 0, 1],\n",
    "    [0, 0, 0, 1, 1],\n",
    "    [1, 0, 1, 1, 1],\n",
    "]\n",
    "grid"
   ]
  },
  {
   "cell_type": "markdown",
   "id": "84cdaf2d-ab97-445d-98eb-7be8e64044f4",
   "metadata": {},
   "source": [
    "Fantastic, we have a way to model our world and the state of the cells within it.\n",
    "While we do not have a function that generates a world from some conditions, we\n",
    "now know that our world will be a list of lists, and have integers representing\n",
    "the cells."
   ]
  },
  {
   "cell_type": "markdown",
   "id": "df201993-aa07-4cfe-8d77-fb022abe4e7b",
   "metadata": {},
   "source": [
    "#### The Rules\n",
    "\n",
    "> What are the rules?\n",
    "\n",
    "For each of these rules we must know the number of neighbors a given\n",
    "cell has. Perhaps now we can write our simulation step in more detail:\n",
    "\n",
    "for each cell --> count neighbors --> check condition --> save output"
   ]
  },
  {
   "cell_type": "code",
   "execution_count": 7,
   "id": "a1dfdf1c-e7ab-4e36-bb89-ae20533bb1e7",
   "metadata": {},
   "outputs": [
    {
     "name": "stdout",
     "output_type": "stream",
     "text": [
      "[0, 0, 0, 0, 0]\n"
     ]
    }
   ],
   "source": [
    "for row in grid:\n",
    "    print(row)\n",
    "    break # Exits a loop early."
   ]
  },
  {
   "cell_type": "markdown",
   "id": "2e68b836-b658-4270-9e70-537d830e24ed",
   "metadata": {},
   "source": [
    "Another problem becomes obvious in iterating over each cell: we need\n",
    "to know about the neighbors of that cell as well.\n",
    "\n",
    "Positional list access is called [slicing](). This slice index starts\n",
    "at zero in Python."
   ]
  },
  {
   "cell_type": "code",
   "execution_count": 8,
   "id": "21724a63-7716-4b2d-99ff-14ea92e99168",
   "metadata": {},
   "outputs": [
    {
     "data": {
      "text/plain": [
       "5"
      ]
     },
     "execution_count": 8,
     "metadata": {},
     "output_type": "execute_result"
    }
   ],
   "source": [
    "n_grid_rows = len(grid)\n",
    "n_grid_rows"
   ]
  },
  {
   "cell_type": "code",
   "execution_count": 9,
   "id": "77fc655b-31a3-4675-b95c-a62c37429620",
   "metadata": {},
   "outputs": [
    {
     "name": "stdout",
     "output_type": "stream",
     "text": [
      "0\n",
      "1\n",
      "2\n",
      "3\n",
      "4\n"
     ]
    }
   ],
   "source": [
    "for row_idx in range(n_grid_rows):\n",
    "    print(row_idx)"
   ]
  },
  {
   "cell_type": "code",
   "execution_count": 10,
   "id": "f106ce34-61ef-4e9f-9a9e-b98935518e5f",
   "metadata": {},
   "outputs": [
    {
     "name": "stdout",
     "output_type": "stream",
     "text": [
      "0 [0, 0, 0, 0, 0]\n",
      "1 [0, 1, 1, 0, 0]\n",
      "2 [0, 1, 0, 0, 1]\n",
      "3 [0, 0, 0, 1, 1]\n",
      "4 [1, 0, 1, 1, 1]\n"
     ]
    }
   ],
   "source": [
    "for row_idx in range(n_grid_rows):\n",
    "    print(row_idx, grid[row_idx])"
   ]
  },
  {
   "cell_type": "markdown",
   "id": "f037d1b5-0ccc-4c56-86cc-636739bf6216",
   "metadata": {},
   "source": [
    "So, to get individual cell access we need to slice along the rows as well. This ends up looking like this:"
   ]
  },
  {
   "cell_type": "code",
   "execution_count": 11,
   "id": "bfed729c-766a-404b-9bbb-aa4e54e4d142",
   "metadata": {},
   "outputs": [
    {
     "data": {
      "text/plain": [
       "0"
      ]
     },
     "execution_count": 11,
     "metadata": {},
     "output_type": "execute_result"
    }
   ],
   "source": [
    "# [row index][column index]\n",
    "grid[0][0]"
   ]
  },
  {
   "cell_type": "markdown",
   "id": "ba3b9c88-e88d-4f5b-b84b-557bd44a8ebc",
   "metadata": {},
   "source": [
    "> You  wont slice numerical arrays like this for long. `numpy` and \n",
    "> `pandas`, packages we will use in the future for holding data have slightly different indexing notation, as all the data is stored in a single object. \n",
    "Here the first set of brackets gives us a list object, and the second set of brackets acts upon that row list to give the cell."
   ]
  },
  {
   "cell_type": "code",
   "execution_count": 12,
   "id": "c9464b7a-1229-4ab0-acf7-2e5b0bfe132d",
   "metadata": {},
   "outputs": [
    {
     "name": "stdout",
     "output_type": "stream",
     "text": [
      "0\n",
      "0\n",
      "0\n",
      "0\n",
      "0\n",
      "0\n",
      "1\n",
      "1\n",
      "0\n",
      "0\n",
      "0\n",
      "1\n",
      "0\n",
      "0\n",
      "1\n",
      "0\n",
      "0\n",
      "0\n",
      "1\n",
      "1\n",
      "1\n",
      "0\n",
      "1\n",
      "1\n",
      "1\n"
     ]
    }
   ],
   "source": [
    "for row_idx in range(n_grid_rows):\n",
    "    for col_idx in range(n_grid_rows):\n",
    "        print(grid[row_idx][col_idx])"
   ]
  },
  {
   "cell_type": "markdown",
   "id": "14ae604e-2e33-49ab-ae6b-3b4776832936",
   "metadata": {},
   "source": [
    "It seems like we are ready for our first function, which should count\n",
    "the number of neighbors a given cell has:"
   ]
  },
  {
   "cell_type": "code",
   "execution_count": 13,
   "id": "090faebf-9cd3-49e6-a17e-c7f5b4978e1f",
   "metadata": {},
   "outputs": [
    {
     "data": {
      "text/plain": [
       "2"
      ]
     },
     "execution_count": 13,
     "metadata": {},
     "output_type": "execute_result"
    }
   ],
   "source": [
    "def count_neighbors(world, x, y):\n",
    "    \"\"\"Count the number of (alive) neighbors in a world\n",
    "    based on the integer coordinates x and y.\"\"\"\n",
    "    return (\n",
    "        world[x-1][y-1] + world[x][y-1] + world[x+1][y-1] +\n",
    "        world[x-1][y  ]                 + world[x+1][y  ] + \n",
    "        world[x-1][y+1] + world[x][y+1] + world[x+1][y+1]\n",
    "    )\n",
    "\n",
    "count_neighbors(grid, 1, 1)"
   ]
  },
  {
   "cell_type": "markdown",
   "id": "9d430c0b-131e-4291-9893-1abf38713221",
   "metadata": {},
   "source": [
    "Earlier I mentioned and promptly dropped the issue of what happens at our\n",
    "world border, and here is the rub: What happens when that count neighbor\n",
    "function tries to access a negative number?"
   ]
  },
  {
   "cell_type": "code",
   "execution_count": 14,
   "id": "4650c8e0-df61-4775-be89-fdd3ac770c54",
   "metadata": {},
   "outputs": [
    {
     "data": {
      "text/plain": [
       "3"
      ]
     },
     "execution_count": 14,
     "metadata": {},
     "output_type": "execute_result"
    }
   ],
   "source": [
    "count_neighbors(grid, 0, 0)"
   ]
  },
  {
   "cell_type": "markdown",
   "id": "fd036e5b-6238-4da1-abac-6a74901c7af5",
   "metadata": {},
   "source": [
    "We find that worked (it turns out negative numbers slice from the end of the list).\n",
    "\n",
    "We find at the other edge:"
   ]
  },
  {
   "cell_type": "code",
   "execution_count": 15,
   "id": "cbde27a7-910a-47e0-91f0-03602efa1d32",
   "metadata": {},
   "outputs": [
    {
     "ename": "IndexError",
     "evalue": "list index out of range",
     "output_type": "error",
     "traceback": [
      "\u001B[0;31m---------------------------------------------------------------------------\u001B[0m",
      "\u001B[0;31mIndexError\u001B[0m                                Traceback (most recent call last)",
      "\u001B[0;32m/tmp/ipykernel_10787/3187836591.py\u001B[0m in \u001B[0;36m<module>\u001B[0;34m\u001B[0m\n\u001B[0;32m----> 1\u001B[0;31m \u001B[0mcount_neighbors\u001B[0m\u001B[0;34m(\u001B[0m\u001B[0mgrid\u001B[0m\u001B[0;34m,\u001B[0m \u001B[0;36m4\u001B[0m\u001B[0;34m,\u001B[0m \u001B[0;36m4\u001B[0m\u001B[0;34m)\u001B[0m\u001B[0;34m\u001B[0m\u001B[0;34m\u001B[0m\u001B[0m\n\u001B[0m",
      "\u001B[0;32m/tmp/ipykernel_10787/2350924250.py\u001B[0m in \u001B[0;36mcount_neighbors\u001B[0;34m(world, x, y)\u001B[0m\n\u001B[1;32m      3\u001B[0m     based on the integer coordinates x and y.\"\"\"\n\u001B[1;32m      4\u001B[0m     return (\n\u001B[0;32m----> 5\u001B[0;31m         \u001B[0mworld\u001B[0m\u001B[0;34m[\u001B[0m\u001B[0mx\u001B[0m\u001B[0;34m-\u001B[0m\u001B[0;36m1\u001B[0m\u001B[0;34m]\u001B[0m\u001B[0;34m[\u001B[0m\u001B[0my\u001B[0m\u001B[0;34m-\u001B[0m\u001B[0;36m1\u001B[0m\u001B[0;34m]\u001B[0m \u001B[0;34m+\u001B[0m \u001B[0mworld\u001B[0m\u001B[0;34m[\u001B[0m\u001B[0mx\u001B[0m\u001B[0;34m]\u001B[0m\u001B[0;34m[\u001B[0m\u001B[0my\u001B[0m\u001B[0;34m-\u001B[0m\u001B[0;36m1\u001B[0m\u001B[0;34m]\u001B[0m \u001B[0;34m+\u001B[0m \u001B[0mworld\u001B[0m\u001B[0;34m[\u001B[0m\u001B[0mx\u001B[0m\u001B[0;34m+\u001B[0m\u001B[0;36m1\u001B[0m\u001B[0;34m]\u001B[0m\u001B[0;34m[\u001B[0m\u001B[0my\u001B[0m\u001B[0;34m-\u001B[0m\u001B[0;36m1\u001B[0m\u001B[0;34m]\u001B[0m \u001B[0;34m+\u001B[0m\u001B[0;34m\u001B[0m\u001B[0;34m\u001B[0m\u001B[0m\n\u001B[0m\u001B[1;32m      6\u001B[0m         \u001B[0mworld\u001B[0m\u001B[0;34m[\u001B[0m\u001B[0mx\u001B[0m\u001B[0;34m-\u001B[0m\u001B[0;36m1\u001B[0m\u001B[0;34m]\u001B[0m\u001B[0;34m[\u001B[0m\u001B[0my\u001B[0m  \u001B[0;34m]\u001B[0m                 \u001B[0;34m+\u001B[0m \u001B[0mworld\u001B[0m\u001B[0;34m[\u001B[0m\u001B[0mx\u001B[0m\u001B[0;34m+\u001B[0m\u001B[0;36m1\u001B[0m\u001B[0;34m]\u001B[0m\u001B[0;34m[\u001B[0m\u001B[0my\u001B[0m  \u001B[0;34m]\u001B[0m \u001B[0;34m+\u001B[0m\u001B[0;34m\u001B[0m\u001B[0;34m\u001B[0m\u001B[0m\n\u001B[1;32m      7\u001B[0m         \u001B[0mworld\u001B[0m\u001B[0;34m[\u001B[0m\u001B[0mx\u001B[0m\u001B[0;34m-\u001B[0m\u001B[0;36m1\u001B[0m\u001B[0;34m]\u001B[0m\u001B[0;34m[\u001B[0m\u001B[0my\u001B[0m\u001B[0;34m+\u001B[0m\u001B[0;36m1\u001B[0m\u001B[0;34m]\u001B[0m \u001B[0;34m+\u001B[0m \u001B[0mworld\u001B[0m\u001B[0;34m[\u001B[0m\u001B[0mx\u001B[0m\u001B[0;34m]\u001B[0m\u001B[0;34m[\u001B[0m\u001B[0my\u001B[0m\u001B[0;34m+\u001B[0m\u001B[0;36m1\u001B[0m\u001B[0;34m]\u001B[0m \u001B[0;34m+\u001B[0m \u001B[0mworld\u001B[0m\u001B[0;34m[\u001B[0m\u001B[0mx\u001B[0m\u001B[0;34m+\u001B[0m\u001B[0;36m1\u001B[0m\u001B[0;34m]\u001B[0m\u001B[0;34m[\u001B[0m\u001B[0my\u001B[0m\u001B[0;34m+\u001B[0m\u001B[0;36m1\u001B[0m\u001B[0;34m]\u001B[0m\u001B[0;34m\u001B[0m\u001B[0;34m\u001B[0m\u001B[0m\n",
      "\u001B[0;31mIndexError\u001B[0m: list index out of range"
     ]
    }
   ],
   "source": [
    "count_neighbors(grid, 4, 4)"
   ]
  },
  {
   "cell_type": "markdown",
   "id": "ff692507-d74f-404d-9a54-b46b724fe785",
   "metadata": {},
   "source": [
    "I am sure you have some thoughts as to what to do about that problem. I move\n",
    "that we just ignore it for now, and only concern ourselves with the well\n",
    "behaved cells in our grid, and we will just not update cells on the edges\n",
    "for now.\n",
    "\n",
    "Why code this piece now when we may have to re-plan it? \n",
    "\n",
    "1. Coding the solution to this problem is the assignment posed by this notebook.\n",
    "2. It is easier to modify code that exists than code that does not exist. \n",
    "   The worst case scenario will be one where we discover an approach \n",
    "   incompatible with our desired approach.\n",
    "3. We are learning, not engineering."
   ]
  },
  {
   "cell_type": "code",
   "execution_count": 16,
   "id": "e38da2fe-3eec-46a5-bf75-6f2aebfe57ec",
   "metadata": {},
   "outputs": [],
   "source": [
    "def run_generation(world):\n",
    "    \n",
    "    new_world = world.copy()\n",
    "    \n",
    "    row_coords = range(1, len(world)-1)\n",
    "    col_coords = range(1, len(world)-1)\n",
    "    \n",
    "    for row in row_coords:\n",
    "        \n",
    "        for col in col_coords:\n",
    "            state = world[row][col]\n",
    "            count = count_neighbors(world, row, col)\n",
    "            \n",
    "            if (state == 1) and (count == 2) or (count == 3):\n",
    "                new_world[row][col] = 1\n",
    "                \n",
    "            elif (state == 0) and (count == 3):\n",
    "                new_world[row][col] = 1\n",
    "                \n",
    "            else:\n",
    "                new_world[row][col] = 0\n",
    "                \n",
    "    return new_world"
   ]
  },
  {
   "cell_type": "code",
   "execution_count": 17,
   "id": "bd597aa2-2d8b-4f4e-a765-bc886f318b35",
   "metadata": {},
   "outputs": [
    {
     "data": {
      "text/plain": [
       "[[0, 0, 0, 0, 0],\n",
       " [0, 1, 1, 0, 0],\n",
       " [0, 1, 0, 0, 1],\n",
       " [0, 1, 0, 0, 1],\n",
       " [1, 0, 1, 1, 1]]"
      ]
     },
     "execution_count": 17,
     "metadata": {},
     "output_type": "execute_result"
    }
   ],
   "source": [
    "world = [\n",
    "    [0, 0, 0, 0, 0],\n",
    "    [0, 1, 1, 0, 0],\n",
    "    [0, 1, 0, 0, 1],\n",
    "    [0, 0, 0, 1, 1],\n",
    "    [1, 0, 1, 1, 1],\n",
    "]\n",
    "\n",
    "for gen in range(5):\n",
    "    world = run_generation(world)\n",
    "    break\n",
    "    \n",
    "world"
   ]
  }
 ],
 "metadata": {
  "kernelspec": {
   "display_name": "pymc",
   "language": "python",
   "name": "pymc"
  },
  "language_info": {
   "codemirror_mode": {
    "name": "ipython",
    "version": 3
   },
   "file_extension": ".py",
   "mimetype": "text/x-python",
   "name": "python",
   "nbconvert_exporter": "python",
   "pygments_lexer": "ipython3",
   "version": "3.8.12"
  }
 },
 "nbformat": 4,
 "nbformat_minor": 5
}