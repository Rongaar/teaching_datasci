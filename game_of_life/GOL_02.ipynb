{
 "cells": [
  {
   "cell_type": "markdown",
   "id": "86146039-4268-4fcc-95df-5ddeb1e3008e",
   "metadata": {},
   "source": [
    "# Python for Data Science\n",
    "## Three Ways to the Game of Life\n",
    "### The Second Way\n",
    "\n",
    "\n",
    "Here we are going to implement the Game of Life again, this time\n",
    "using a slightly different model. The reason for doing this is twofold:\n",
    "\n",
    "1. We are learning Python and it is great practice.\n",
    "2. Stress the importance of step 1 in our *learning by doing*, meaning\n",
    "   a review on the theory of our solution.\n",
    "   \n",
    "Here we will notice that using a slightly different model leads\n",
    "to the choice of different primitives, and ends up having a dramatic\n",
    "impact into the functionality of the program.\n",
    "\n",
    "\n",
    "\n",
    "We are going to be referencing a notebook by Peter Norvig.\n",
    "\n",
    "https://nbviewer.org/url/norvig.com/ipython/Life.ipynb\n",
    "\n",
    "He has an interesting style, probably not the best for newer students,\n",
    "so I re-implement some of that code here."
   ]
  },
  {
   "cell_type": "code",
   "execution_count": null,
   "id": "6c12e82b-ee36-4a55-b4ec-dda455e3d737",
   "metadata": {},
   "outputs": [],
   "source": []
  }
 ],
 "metadata": {
  "kernelspec": {
   "display_name": "pymc",
   "language": "python",
   "name": "pymc"
  },
  "language_info": {
   "codemirror_mode": {
    "name": "ipython",
    "version": 3
   },
   "file_extension": ".py",
   "mimetype": "text/x-python",
   "name": "python",
   "nbconvert_exporter": "python",
   "pygments_lexer": "ipython3",
   "version": "3.8.12"
  }
 },
 "nbformat": 4,
 "nbformat_minor": 5
}
