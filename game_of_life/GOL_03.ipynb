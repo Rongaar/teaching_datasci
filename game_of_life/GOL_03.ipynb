{
 "cells": [
  {
   "cell_type": "code",
   "execution_count": 3,
   "id": "af00f34a-ded7-4ef1-8e0c-e9edccef4f0b",
   "metadata": {},
   "outputs": [],
   "source": [
    "import numpy as np"
   ]
  },
  {
   "cell_type": "code",
   "execution_count": 4,
   "id": "2fafe75c-fefb-4b14-900e-a907598605f1",
   "metadata": {},
   "outputs": [
    {
     "data": {
      "text/plain": [
       "array([0, 1, 2, 3, 4, 5])"
      ]
     },
     "execution_count": 4,
     "metadata": {},
     "output_type": "execute_result"
    }
   ],
   "source": [
    "np.array([0, 1, 2, 3, 4, 5])"
   ]
  },
  {
   "cell_type": "code",
   "execution_count": 5,
   "id": "a387ad5c-77d9-49c2-93b9-985c203c3d57",
   "metadata": {},
   "outputs": [],
   "source": [
    "# Why does this not work?\n",
    "# np.array(0, 1, 2, 3, 4, 5)"
   ]
  },
  {
   "cell_type": "code",
   "execution_count": 6,
   "id": "4d52345f-9be0-4da7-8772-469b35d0e76a",
   "metadata": {},
   "outputs": [
    {
     "data": {
      "text/plain": [
       "array([0., 0., 0., 0., 0.])"
      ]
     },
     "execution_count": 6,
     "metadata": {},
     "output_type": "execute_result"
    }
   ],
   "source": [
    "np.zeros(5)"
   ]
  },
  {
   "cell_type": "code",
   "execution_count": 7,
   "id": "a8d2ca85-2ba2-4429-a070-78379b337654",
   "metadata": {},
   "outputs": [
    {
     "data": {
      "text/plain": [
       "array([0, 0, 0, 0, 0])"
      ]
     },
     "execution_count": 7,
     "metadata": {},
     "output_type": "execute_result"
    }
   ],
   "source": [
    "np.zeros(5, int)"
   ]
  },
  {
   "cell_type": "code",
   "execution_count": 8,
   "id": "c42153df-f6ca-47e6-8d10-bfa62e657fb5",
   "metadata": {},
   "outputs": [
    {
     "data": {
      "text/plain": [
       "array([[0, 0, 0, 0, 0],\n",
       "       [0, 0, 0, 0, 0],\n",
       "       [0, 0, 0, 0, 0],\n",
       "       [0, 0, 0, 0, 0],\n",
       "       [0, 0, 0, 0, 0]])"
      ]
     },
     "execution_count": 8,
     "metadata": {},
     "output_type": "execute_result"
    }
   ],
   "source": [
    "empty_grid = np.zeros((5, 5), int)\n",
    "empty_grid"
   ]
  },
  {
   "cell_type": "markdown",
   "id": "ffc2c4ba-dbd6-49a5-978e-497895322a44",
   "metadata": {},
   "source": [
    "Numpy indexing\n",
    "\n",
    "Now, previously we indexed lists of lists. That is **not the case**\n",
    "here.\n",
    "\n",
    "Here we have a single Python object:"
   ]
  },
  {
   "cell_type": "code",
   "execution_count": 9,
   "id": "142de675-9fc7-41ec-8117-4df353689361",
   "metadata": {},
   "outputs": [
    {
     "data": {
      "text/plain": [
       "0"
      ]
     },
     "execution_count": 9,
     "metadata": {},
     "output_type": "execute_result"
    }
   ],
   "source": [
    "# Do this in numpy:\n",
    "empty_grid[0, 0]\n",
    "\n",
    "# Not this, even if it works.\n",
    "# empty_grid[0][0]"
   ]
  },
  {
   "cell_type": "code",
   "execution_count": 10,
   "id": "6b2da7ea-7d94-4290-9725-64eeec517da3",
   "metadata": {},
   "outputs": [
    {
     "data": {
      "text/plain": [
       "numpy.ndarray"
      ]
     },
     "execution_count": 10,
     "metadata": {},
     "output_type": "execute_result"
    }
   ],
   "source": [
    "type(empty_grid)"
   ]
  },
  {
   "cell_type": "markdown",
   "id": "a02c8857-0bd8-4027-aa78-0edaecfd56ac",
   "metadata": {},
   "source": [
    "Here is the good stuff. *What is happening here?*"
   ]
  },
  {
   "cell_type": "code",
   "execution_count": 13,
   "id": "bef2a37d-9b48-444e-bfbe-15f78ef40f8c",
   "metadata": {},
   "outputs": [
    {
     "data": {
      "text/plain": [
       "array([0, 0])"
      ]
     },
     "execution_count": 13,
     "metadata": {},
     "output_type": "execute_result"
    }
   ],
   "source": [
    "empty_grid.take([0, 8])"
   ]
  }
 ],
 "metadata": {
  "kernelspec": {
   "display_name": "pymc",
   "language": "python",
   "name": "pymc"
  },
  "language_info": {
   "codemirror_mode": {
    "name": "ipython",
    "version": 3
   },
   "file_extension": ".py",
   "mimetype": "text/x-python",
   "name": "python",
   "nbconvert_exporter": "python",
   "pygments_lexer": "ipython3",
   "version": "3.8.12"
  }
 },
 "nbformat": 4,
 "nbformat_minor": 5
}
