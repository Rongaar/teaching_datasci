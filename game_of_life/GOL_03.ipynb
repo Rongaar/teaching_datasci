{
 "cells": [
  {
   "cell_type": "markdown",
   "id": "b77f7cb6",
   "metadata": {
    "pycharm": {
     "name": "#%% md\n"
    }
   },
   "source": [
    "# Ways to the Game of Life -- The Third Way\n",
    "\n",
    "*Here we continue upon our dual-purpose journey: to learn Python by implementing\n",
    "a version of Conway's Game of Life. Here we assume you have completed the\n",
    "previous notebooks to your satisfaction.*\n",
    "\n",
    "Previously we examined implementations restricting ourselves first to base\n",
    "Python, then a sparse implementation that used `Counter` from the standard\n",
    "library. Recall the expanded ***learning by doing*** process we introduced\n",
    "in the first notebook, specifically the order of exploration for imports. In\n",
    "practice we will find ourselves using `numpy` for  scientific computing.\n",
    "\n",
    "What is `numpy`? Again, per our professional, scientific approach we prefer\n",
    "to directly consult source documentation:\n",
    "\n",
    "> NumPy is the fundamental package for scientific computing in Python. It is a Python library that provides a multidimensional array object, various derived objects (such as masked arrays and matrices), and an assortment of routines for fast operations on arrays, including mathematical, logical, shape manipulation, sorting, selecting, I/O, discrete Fourier transforms, basic linear algebra, basic statistical operations, random simulation and much more.\n",
    "\n",
    "You should take the time now to read the [What is NumPy?](https://numpy.org/doc/stable/user/whatisnumpy.html) page yourself now.\n",
    "\n",
    "---\n",
    "\n",
    "That done, it is time to get pushed back into the Python pool.\n",
    "\n",
    "The way we import numpy here is  the de-facto standard. So much so that you\n",
    "can presume `np` to mean `numpy` in general discussions online (code must\n",
    "obviously explicitly import numpy)."
   ]
  },
  {
   "cell_type": "code",
   "execution_count": 1,
   "id": "af00f34a-ded7-4ef1-8e0c-e9edccef4f0b",
   "metadata": {},
   "outputs": [],
   "source": [
    "import numpy as np"
   ]
  },
  {
   "cell_type": "markdown",
   "id": "01045c1d",
   "metadata": {
    "pycharm": {
     "name": "#%% md\n"
    }
   },
   "source": [
    "Jupyter notebooks and other interactive coding environments often have a\n",
    "tab-complete feature which allows us to examine (basically) the `dir()`\n",
    "of a given object. Try that now with `np.[tab]`.\n",
    "\n",
    "The NumPy package is expansive, but you fill find most of your use is\n",
    "centered around what is an `np.ndarray` object, which you will most often\n",
    "create with a call to `np.array()`. This is similar to how we often create\n",
    "a `List` type by calling `list()`. We will examine the mechanics behind this\n",
    "in a later lesson, for now remember to use `type()` if you are not sure of\n",
    "your object type."
   ]
  },
  {
   "cell_type": "code",
   "execution_count": 2,
   "id": "909fd0ab",
   "metadata": {
    "collapsed": false,
    "jupyter": {
     "outputs_hidden": false
    },
    "pycharm": {
     "name": "#%%\n"
    }
   },
   "outputs": [
    {
     "data": {
      "text/plain": [
       "array([1, 2, 3])"
      ]
     },
     "execution_count": 2,
     "metadata": {},
     "output_type": "execute_result"
    }
   ],
   "source": [
    "a = np.array([1, 2, 3])\n",
    "a"
   ]
  },
  {
   "cell_type": "code",
   "execution_count": 3,
   "id": "c7f4cccb",
   "metadata": {
    "collapsed": false,
    "jupyter": {
     "outputs_hidden": false
    },
    "pycharm": {
     "name": "#%%\n"
    }
   },
   "outputs": [
    {
     "data": {
      "text/plain": [
       "numpy.ndarray"
      ]
     },
     "execution_count": 3,
     "metadata": {},
     "output_type": "execute_result"
    }
   ],
   "source": [
    "type(a)"
   ]
  },
  {
   "cell_type": "code",
   "execution_count": 4,
   "id": "a387ad5c-77d9-49c2-93b9-985c203c3d57",
   "metadata": {},
   "outputs": [],
   "source": [
    "# Why does this not work?\n",
    "# np.array(0, 1, 2, 3, 4, 5)"
   ]
  },
  {
   "cell_type": "markdown",
   "id": "c5b38fb6",
   "metadata": {
    "pycharm": {
     "name": "#%% md\n"
    }
   },
   "source": [
    "For our convenience there are array creation routines, for our purpose\n",
    "we will find the `np.zeros()` creation routine particularly useful."
   ]
  },
  {
   "cell_type": "code",
   "execution_count": 5,
   "id": "4d52345f-9be0-4da7-8772-469b35d0e76a",
   "metadata": {},
   "outputs": [
    {
     "data": {
      "text/plain": [
       "array([0., 0., 0., 0., 0.])"
      ]
     },
     "execution_count": 5,
     "metadata": {},
     "output_type": "execute_result"
    }
   ],
   "source": [
    "np.zeros(5)"
   ]
  },
  {
   "cell_type": "markdown",
   "id": "ef4c53d9",
   "metadata": {
    "pycharm": {
     "name": "#%% md\n"
    }
   },
   "source": [
    "For now it may not make much of a difference, but it is good form\n",
    "to use the `int` type when we know we will using natural numbers."
   ]
  },
  {
   "cell_type": "code",
   "execution_count": 6,
   "id": "a8d2ca85-2ba2-4429-a070-78379b337654",
   "metadata": {},
   "outputs": [
    {
     "data": {
      "text/plain": [
       "array([0, 0, 0, 0, 0])"
      ]
     },
     "execution_count": 6,
     "metadata": {},
     "output_type": "execute_result"
    }
   ],
   "source": [
    "np.zeros(5, int)"
   ]
  },
  {
   "cell_type": "markdown",
   "id": "775ff1fb",
   "metadata": {
    "pycharm": {
     "name": "#%% md\n"
    }
   },
   "source": [
    "Indeed, if we provide a two-dimensional argument to the shape input, we\n",
    "can instantiate an empty grid very easily."
   ]
  },
  {
   "cell_type": "code",
   "execution_count": 7,
   "id": "c42153df-f6ca-47e6-8d10-bfa62e657fb5",
   "metadata": {},
   "outputs": [
    {
     "data": {
      "text/plain": [
       "array([[0, 0, 0, 0, 0],\n",
       "       [0, 0, 0, 0, 0],\n",
       "       [0, 0, 0, 0, 0],\n",
       "       [0, 0, 0, 0, 0],\n",
       "       [0, 0, 0, 0, 0]])"
      ]
     },
     "execution_count": 7,
     "metadata": {},
     "output_type": "execute_result"
    }
   ],
   "source": [
    "empty_grid = np.zeros((5, 5), int)\n",
    "empty_grid"
   ]
  },
  {
   "cell_type": "markdown",
   "id": "ffc2c4ba-dbd6-49a5-978e-497895322a44",
   "metadata": {},
   "source": [
    "Now, previously we indexed lists of lists. That is **not the case** here.\n",
    "Recall that we have a single `np.ndarray` object, *not* a nested list of lists.\n",
    "\n",
    "Now is a good time to read the [Array Indexing](https://numpy.org/doc/stable/user/basics.indexing.html) page, you need not commit this to memory now, on the other hand\n",
    "you should surely save such a reference now."
   ]
  },
  {
   "cell_type": "code",
   "execution_count": null,
   "id": "f396baac-1429-45e4-a53e-69c7fef9ce3a",
   "metadata": {},
   "outputs": [],
   "source": [
    "np.array([])"
   ]
  },
  {
   "cell_type": "code",
   "execution_count": 8,
   "id": "142de675-9fc7-41ec-8117-4df353689361",
   "metadata": {},
   "outputs": [
    {
     "data": {
      "text/plain": [
       "0"
      ]
     },
     "execution_count": 8,
     "metadata": {},
     "output_type": "execute_result"
    }
   ],
   "source": [
    "# Do this in numpy:\n",
    "empty_grid[0, 0]\n",
    "\n",
    "# Not this, even if it works, read why in the link above.\n",
    "# empty_grid[0][0]"
   ]
  },
  {
   "cell_type": "code",
   "execution_count": 9,
   "id": "6b2da7ea-7d94-4290-9725-64eeec517da3",
   "metadata": {},
   "outputs": [
    {
     "data": {
      "text/plain": [
       "numpy.ndarray"
      ]
     },
     "execution_count": 9,
     "metadata": {},
     "output_type": "execute_result"
    }
   ],
   "source": [
    "type(empty_grid)"
   ]
  },
  {
   "cell_type": "markdown",
   "id": "d17ab56f-341f-418c-be0d-800e2236941c",
   "metadata": {},
   "source": [
    "Now, let us compare the use of operators on `numpy.ndarray` and on `list` objects."
   ]
  },
  {
   "cell_type": "code",
   "execution_count": 22,
   "id": "07f69cdb-8b24-4c9e-a40e-c58ac25b7c13",
   "metadata": {},
   "outputs": [
    {
     "data": {
      "text/plain": [
       "[0, 1, 2, 3, 4]"
      ]
     },
     "execution_count": 22,
     "metadata": {},
     "output_type": "execute_result"
    }
   ],
   "source": [
    "demo_list = list(range(5))\n",
    "demo_list"
   ]
  },
  {
   "cell_type": "code",
   "execution_count": 23,
   "id": "15d8647c-a0a2-414a-a7c5-8f15ba6c55a0",
   "metadata": {},
   "outputs": [
    {
     "data": {
      "text/plain": [
       "array([0, 1, 2, 3, 4])"
      ]
     },
     "execution_count": 23,
     "metadata": {},
     "output_type": "execute_result"
    }
   ],
   "source": [
    "demo_array = np.array(range(5))\n",
    "demo_array"
   ]
  },
  {
   "cell_type": "markdown",
   "id": "7e0c0261-db77-4c58-9dc2-209960efeb10",
   "metadata": {},
   "source": [
    "The addition operator.\n",
    "\n",
    "Attempting to add an integer produces an error:"
   ]
  },
  {
   "cell_type": "code",
   "execution_count": 28,
   "id": "4feecd94-c1c3-4865-b20a-cc02a83eeee7",
   "metadata": {},
   "outputs": [
    {
     "ename": "TypeError",
     "evalue": "can only concatenate list (not \"int\") to list",
     "output_type": "error",
     "traceback": [
      "\u001b[0;31m---------------------------------------------------------------------------\u001b[0m",
      "\u001b[0;31mTypeError\u001b[0m                                 Traceback (most recent call last)",
      "\u001b[0;32m/tmp/ipykernel_33227/1041488415.py\u001b[0m in \u001b[0;36m<module>\u001b[0;34m\u001b[0m\n\u001b[1;32m      1\u001b[0m \u001b[0;31m# Produces TypeError.\u001b[0m\u001b[0;34m\u001b[0m\u001b[0;34m\u001b[0m\u001b[0;34m\u001b[0m\u001b[0m\n\u001b[0;32m----> 2\u001b[0;31m \u001b[0mdemo_list\u001b[0m \u001b[0;34m+\u001b[0m \u001b[0;36m1\u001b[0m\u001b[0;34m\u001b[0m\u001b[0;34m\u001b[0m\u001b[0m\n\u001b[0m",
      "\u001b[0;31mTypeError\u001b[0m: can only concatenate list (not \"int\") to list"
     ]
    }
   ],
   "source": [
    "# Produces TypeError. \n",
    "demo_list + 1"
   ]
  },
  {
   "cell_type": "markdown",
   "id": "bed12cbc-ae7d-4d90-b50a-728ab19d758b",
   "metadata": {},
   "source": [
    "While the same operation on a `numpy.ndarray` object produces a result:"
   ]
  },
  {
   "cell_type": "code",
   "execution_count": 29,
   "id": "ff7e32c8-8557-439d-a391-0ccc260220e0",
   "metadata": {},
   "outputs": [
    {
     "data": {
      "text/plain": [
       "array([1, 2, 3, 4, 5])"
      ]
     },
     "execution_count": 29,
     "metadata": {},
     "output_type": "execute_result"
    }
   ],
   "source": [
    "demo_array + 1"
   ]
  },
  {
   "cell_type": "markdown",
   "id": "ca982110-3dbc-4814-bd00-f927f29ccdac",
   "metadata": {},
   "source": [
    "The process of applying these operations across compatible array shapes is called [broadcasting](https://numpy.org/doc/stable/user/basics.broadcasting.html). That topic will be of great interest and importance in the future, but for now we can be satisfied with the observation that our operation is carried out for each member of our array.\n",
    "\n",
    "The operators are described in the [Built-in Types](https://docs.python.org/3/library/stdtypes.html#index-7) section of the documentation.\n",
    "\n",
    "Here we will make use of the remainder operator: `%`\n",
    "\n",
    "This operator gives the remainder after a division."
   ]
  },
  {
   "cell_type": "code",
   "execution_count": 31,
   "id": "a89504c3-bc2d-4c18-9d7b-ec78b287749c",
   "metadata": {},
   "outputs": [
    {
     "data": {
      "text/plain": [
       "array([0, 1, 2, 3, 4])"
      ]
     },
     "execution_count": 31,
     "metadata": {},
     "output_type": "execute_result"
    }
   ],
   "source": [
    "demo_array"
   ]
  },
  {
   "cell_type": "code",
   "execution_count": 33,
   "id": "f37f3bb2-f2a7-4b02-b4ea-8b995bf05d88",
   "metadata": {},
   "outputs": [
    {
     "data": {
      "text/plain": [
       "array([0, 1, 0, 1, 0])"
      ]
     },
     "execution_count": 33,
     "metadata": {},
     "output_type": "execute_result"
    }
   ],
   "source": [
    "demo_array % 2"
   ]
  },
  {
   "cell_type": "markdown",
   "id": "1ac8f814-394d-42b9-8e40-1ed06e157fda",
   "metadata": {},
   "source": [
    "For our application to the Game of Life, we can use this to determine the 'wrapped' index.\n",
    "\n",
    "So you can better observe what is happening, will use a new grid."
   ]
  },
  {
   "cell_type": "code",
   "execution_count": 34,
   "id": "a4aaf1ba-02af-412f-8ff8-dbfbde05f781",
   "metadata": {},
   "outputs": [
    {
     "data": {
      "text/plain": [
       "array([[ 0,  1,  2,  3,  4],\n",
       "       [ 5,  6,  7,  8,  9],\n",
       "       [10, 11, 12, 13, 14],\n",
       "       [15, 16, 17, 18, 19],\n",
       "       [20, 21, 22, 23, 24]])"
      ]
     },
     "execution_count": 34,
     "metadata": {},
     "output_type": "execute_result"
    }
   ],
   "source": [
    "ordered_grid = np.arange(25).reshape(5,5)\n",
    "ordered_grid"
   ]
  },
  {
   "cell_type": "markdown",
   "id": "d41b84ca-ad1c-4148-9e44-f306bb108111",
   "metadata": {},
   "source": [
    "The shape of the array gives the divisor for wrapping or coordinates:"
   ]
  },
  {
   "cell_type": "code",
   "execution_count": 37,
   "id": "86776130-cdfa-4cc0-9b90-63155bdf046e",
   "metadata": {},
   "outputs": [
    {
     "data": {
      "text/plain": [
       "(5, 5)"
      ]
     },
     "execution_count": 37,
     "metadata": {},
     "output_type": "execute_result"
    }
   ],
   "source": [
    "ordered_grid.shape"
   ]
  },
  {
   "cell_type": "markdown",
   "id": "75ab8aa3-2b5d-4fb7-b91c-7bb637c7b1c3",
   "metadata": {},
   "source": [
    "It would be nice to see the result of our operation on a range of requested coordinates..."
   ]
  },
  {
   "cell_type": "code",
   "execution_count": 48,
   "id": "2bfa1d9e-0903-4c28-8c0b-640b62c29798",
   "metadata": {},
   "outputs": [],
   "source": [
    "coords = list()\n",
    "\n",
    "for x in range(-1, 6):\n",
    "    for y in range(-1, 6):\n",
    "        coords.append((x,y))\n",
    "\n",
    "# Equivalent code in the generator syntax.\n",
    "# coords = [(x, y) for x in range(5) for y in range(5)]\n",
    "# coords"
   ]
  },
  {
   "cell_type": "markdown",
   "id": "a411fecb-8395-4b74-bd2f-229bbb66899d",
   "metadata": {},
   "source": [
    "Let us convert this to a `numpy` array, this should allow us to see the result of our function on our the coordinates likely to be requested by our code."
   ]
  },
  {
   "cell_type": "code",
   "execution_count": 51,
   "id": "ad69fa0b-c3ad-49e3-8b80-9021359b2753",
   "metadata": {},
   "outputs": [
    {
     "data": {
      "text/plain": [
       "array([[-1, -1],\n",
       "       [-1,  0],\n",
       "       [-1,  1],\n",
       "       [-1,  2],\n",
       "       [-1,  3],\n",
       "       [-1,  4],\n",
       "       [-1,  5],\n",
       "       [ 0, -1],\n",
       "       [ 0,  0],\n",
       "       [ 0,  1],\n",
       "       [ 0,  2],\n",
       "       [ 0,  3],\n",
       "       [ 0,  4],\n",
       "       [ 0,  5],\n",
       "       [ 1, -1],\n",
       "       [ 1,  0],\n",
       "       [ 1,  1],\n",
       "       [ 1,  2],\n",
       "       [ 1,  3],\n",
       "       [ 1,  4],\n",
       "       [ 1,  5],\n",
       "       [ 2, -1],\n",
       "       [ 2,  0],\n",
       "       [ 2,  1],\n",
       "       [ 2,  2],\n",
       "       [ 2,  3],\n",
       "       [ 2,  4],\n",
       "       [ 2,  5],\n",
       "       [ 3, -1],\n",
       "       [ 3,  0],\n",
       "       [ 3,  1],\n",
       "       [ 3,  2],\n",
       "       [ 3,  3],\n",
       "       [ 3,  4],\n",
       "       [ 3,  5],\n",
       "       [ 4, -1],\n",
       "       [ 4,  0],\n",
       "       [ 4,  1],\n",
       "       [ 4,  2],\n",
       "       [ 4,  3],\n",
       "       [ 4,  4],\n",
       "       [ 4,  5],\n",
       "       [ 5, -1],\n",
       "       [ 5,  0],\n",
       "       [ 5,  1],\n",
       "       [ 5,  2],\n",
       "       [ 5,  3],\n",
       "       [ 5,  4],\n",
       "       [ 5,  5]])"
      ]
     },
     "execution_count": 51,
     "metadata": {},
     "output_type": "execute_result"
    }
   ],
   "source": [
    "coord_array = np.array(coords)\n",
    "coord_array"
   ]
  },
  {
   "cell_type": "markdown",
   "id": "dfca5e7d-ced9-4710-898f-75297c3d0dfb",
   "metadata": {},
   "source": [
    "As always, examine the shape of this object."
   ]
  },
  {
   "cell_type": "code",
   "execution_count": 52,
   "id": "9b172a9a-b989-466a-9a56-c398c0b052ef",
   "metadata": {},
   "outputs": [
    {
     "data": {
      "text/plain": [
       "(49, 2)"
      ]
     },
     "execution_count": 52,
     "metadata": {},
     "output_type": "execute_result"
    }
   ],
   "source": [
    "coord_array.shape"
   ]
  },
  {
   "cell_type": "markdown",
   "id": "3ca9f5db-f1b1-4e61-86b0-aa7ea70261e1",
   "metadata": {},
   "source": [
    "Now let us write a function that wraps out of bonds requests."
   ]
  },
  {
   "cell_type": "code",
   "execution_count": 53,
   "id": "3559ae06-6cfa-41b6-8816-fe6544fe9928",
   "metadata": {},
   "outputs": [
    {
     "data": {
      "text/plain": [
       "array([[4, 4],\n",
       "       [4, 0],\n",
       "       [4, 1],\n",
       "       [4, 2],\n",
       "       [4, 3],\n",
       "       [4, 4],\n",
       "       [4, 0],\n",
       "       [0, 4],\n",
       "       [0, 0],\n",
       "       [0, 1],\n",
       "       [0, 2],\n",
       "       [0, 3],\n",
       "       [0, 4],\n",
       "       [0, 0],\n",
       "       [1, 4],\n",
       "       [1, 0],\n",
       "       [1, 1],\n",
       "       [1, 2],\n",
       "       [1, 3],\n",
       "       [1, 4],\n",
       "       [1, 0],\n",
       "       [2, 4],\n",
       "       [2, 0],\n",
       "       [2, 1],\n",
       "       [2, 2],\n",
       "       [2, 3],\n",
       "       [2, 4],\n",
       "       [2, 0],\n",
       "       [3, 4],\n",
       "       [3, 0],\n",
       "       [3, 1],\n",
       "       [3, 2],\n",
       "       [3, 3],\n",
       "       [3, 4],\n",
       "       [3, 0],\n",
       "       [4, 4],\n",
       "       [4, 0],\n",
       "       [4, 1],\n",
       "       [4, 2],\n",
       "       [4, 3],\n",
       "       [4, 4],\n",
       "       [4, 0],\n",
       "       [0, 4],\n",
       "       [0, 0],\n",
       "       [0, 1],\n",
       "       [0, 2],\n",
       "       [0, 3],\n",
       "       [0, 4],\n",
       "       [0, 0]])"
      ]
     },
     "execution_count": 53,
     "metadata": {},
     "output_type": "execute_result"
    }
   ],
   "source": [
    "def wrap_coords(coordinates, shape=(5,5)):\n",
    "    wrapped_coords = coordinates % shape\n",
    "    return wrapped_coords\n",
    "\n",
    "\n",
    "wrap_coords(coord_array)"
   ]
  },
  {
   "cell_type": "markdown",
   "id": "39d17f8d",
   "metadata": {
    "pycharm": {
     "name": "#%% md\n"
    }
   },
   "source": [
    "NumPy is an extremely powerful package that we have just barely touched on here. I\n",
    "encourage you to take a goal-oriented approach in exploring `numpy` (and other packages).\n",
    "Often times the lens provided by a problem or goal is required to clarify the 'why'\n",
    "to a program."
   ]
  },
  {
   "cell_type": "markdown",
   "id": "cc929325",
   "metadata": {
    "pycharm": {
     "name": "#%% md\n"
    }
   },
   "source": [
    "The challenge proposed here is to (again) implement the game of life, this time\n",
    "using a `numpy.ndarray` to model the grid."
   ]
  }
 ],
 "metadata": {
  "kernelspec": {
   "display_name": "pymc",
   "language": "python",
   "name": "pymc"
  },
  "language_info": {
   "codemirror_mode": {
    "name": "ipython",
    "version": 3
   },
   "file_extension": ".py",
   "mimetype": "text/x-python",
   "name": "python",
   "nbconvert_exporter": "python",
   "pygments_lexer": "ipython3",
   "version": "3.8.12"
  }
 },
 "nbformat": 4,
 "nbformat_minor": 5
}
