{
 "cells": [
  {
   "cell_type": "markdown",
   "source": [
    "# Ways to the Game of Life -- The Third Way\n",
    "\n",
    "*Here we continue upon our dual-purpose journey: to learn Pyton by implementing\n",
    "a version of Conway's Game of Life. Here we assume you have completed the\n",
    "previous notebooks to your satisfaction.*\n",
    "\n",
    "Previously we examined implementations restricting ourselves first to base\n",
    "Python, then a sparse implementation that used `Counter` from the standard\n",
    "library. Recall the expanded ***learning by doing*** process we introduced\n",
    "in the first notebook, specifically the order of exploration for imports. In\n",
    "practice we will find ourselves using `numpy` for  scientific computing.\n",
    "\n",
    "What is `numpy`? Again, per our professional, scientific approach we prefer\n",
    "to directly consult source documentation:\n",
    "\n",
    "> NumPy is the fundamental package for scientific computing in Python. It is a Python library that provides a multidimensional array object, various derived objects (such as masked arrays and matrices), and an assortment of routines for fast operations on arrays, including mathematical, logical, shape manipulation, sorting, selecting, I/O, discrete Fourier transforms, basic linear algebra, basic statistical operations, random simulation and much more.\n",
    "\n",
    "You should take the time now to read the [What is NumPy?](https://numpy.org/doc/stable/user/whatisnumpy.html) page yourself now.\n",
    "\n",
    "---\n",
    "\n",
    "That done, it is time to get pushed back into the Python pool.\n",
    "\n",
    "The way we import numpy here is  the de-facto standard. So much so that you\n",
    "can presume `np` to mean `numpy` in general discussions online (code must\n",
    "obviously explicitly import numpy)."
   ],
   "metadata": {
    "collapsed": false,
    "pycharm": {
     "name": "#%% md\n"
    }
   }
  },
  {
   "cell_type": "code",
   "execution_count": 1,
   "id": "af00f34a-ded7-4ef1-8e0c-e9edccef4f0b",
   "metadata": {},
   "outputs": [],
   "source": [
    "import numpy as np"
   ]
  },
  {
   "cell_type": "markdown",
   "source": [
    "Jupyter notebooks and other interactive coding environments often have a\n",
    "tab-complete feature which allows us to examine (basically) the `dir()`\n",
    "of a given object. Try that now with `np.[tab]`.\n",
    "\n",
    "The NumPy package is expansive, but you fill find most of your use is\n",
    "centered around what is an `np.ndarray` object, which you will most often\n",
    "create with a call to `np.array()`. This is similar to how we often create\n",
    "a `List` type by calling `list()`. We will examine the mechanics behind this\n",
    "in a later lesson, for now remember to use `type()` if you are not sure of\n",
    "your object type."
   ],
   "metadata": {
    "collapsed": false,
    "pycharm": {
     "name": "#%% md\n"
    }
   }
  },
  {
   "cell_type": "code",
   "execution_count": 3,
   "outputs": [
    {
     "data": {
      "text/plain": "array([1, 2, 3])"
     },
     "execution_count": 3,
     "metadata": {},
     "output_type": "execute_result"
    }
   ],
   "source": [
    "a = np.array([1, 2, 3])\n",
    "a"
   ],
   "metadata": {
    "collapsed": false,
    "pycharm": {
     "name": "#%%\n"
    }
   }
  },
  {
   "cell_type": "code",
   "execution_count": 4,
   "outputs": [
    {
     "data": {
      "text/plain": "numpy.ndarray"
     },
     "execution_count": 4,
     "metadata": {},
     "output_type": "execute_result"
    }
   ],
   "source": [
    "type(a)"
   ],
   "metadata": {
    "collapsed": false,
    "pycharm": {
     "name": "#%%\n"
    }
   }
  },
  {
   "cell_type": "code",
   "execution_count": 5,
   "id": "a387ad5c-77d9-49c2-93b9-985c203c3d57",
   "metadata": {},
   "outputs": [],
   "source": [
    "# Why does this not work?\n",
    "# np.array(0, 1, 2, 3, 4, 5)"
   ]
  },
  {
   "cell_type": "markdown",
   "source": [
    "For our convenience there are array creation routines, for our purpose\n",
    "we will find the `np.zeros()` creation routine particularly useful."
   ],
   "metadata": {
    "collapsed": false,
    "pycharm": {
     "name": "#%% md\n"
    }
   }
  },
  {
   "cell_type": "code",
   "execution_count": 6,
   "id": "4d52345f-9be0-4da7-8772-469b35d0e76a",
   "metadata": {},
   "outputs": [
    {
     "data": {
      "text/plain": [
       "array([0., 0., 0., 0., 0.])"
      ]
     },
     "execution_count": 6,
     "metadata": {},
     "output_type": "execute_result"
    }
   ],
   "source": [
    "np.zeros(5)"
   ]
  },
  {
   "cell_type": "markdown",
   "source": [
    "For now it may not make much of a difference, but it is good form\n",
    "to use the `int` type when we know we will using natural numbers."
   ],
   "metadata": {
    "collapsed": false,
    "pycharm": {
     "name": "#%% md\n"
    }
   }
  },
  {
   "cell_type": "code",
   "execution_count": 5,
   "id": "a8d2ca85-2ba2-4429-a070-78379b337654",
   "metadata": {},
   "outputs": [
    {
     "data": {
      "text/plain": "array([0, 0, 0, 0, 0])"
     },
     "execution_count": 5,
     "metadata": {},
     "output_type": "execute_result"
    }
   ],
   "source": [
    "np.zeros(5, int)"
   ]
  },
  {
   "cell_type": "markdown",
   "source": [
    "Indeed, if we provide a two-dimensional argument to the shape input, we\n",
    "can instantiate an empty grid very easily."
   ],
   "metadata": {
    "collapsed": false,
    "pycharm": {
     "name": "#%% md\n"
    }
   }
  },
  {
   "cell_type": "code",
   "execution_count": 7,
   "id": "c42153df-f6ca-47e6-8d10-bfa62e657fb5",
   "metadata": {},
   "outputs": [
    {
     "data": {
      "text/plain": "array([[0, 0, 0, 0, 0],\n       [0, 0, 0, 0, 0],\n       [0, 0, 0, 0, 0],\n       [0, 0, 0, 0, 0],\n       [0, 0, 0, 0, 0]])"
     },
     "execution_count": 7,
     "metadata": {},
     "output_type": "execute_result"
    }
   ],
   "source": [
    "empty_grid = np.zeros((5, 5), int)\n",
    "empty_grid"
   ]
  },
  {
   "cell_type": "markdown",
   "id": "ffc2c4ba-dbd6-49a5-978e-497895322a44",
   "metadata": {},
   "source": [
    "Now, previously we indexed lists of lists. That is **not the case** here.\n",
    "Recall that we have a single `np.ndarray` object, *not* a nested list of lists.\n",
    "\n",
    "Now is a good time to read the [Array Indexing](https://numpy.org/doc/stable/user/basics.indexing.html) page, you need not commit this to memory now, on the other hand\n",
    "you should surely save such a reference now."
   ]
  },
  {
   "cell_type": "code",
   "execution_count": 8,
   "id": "142de675-9fc7-41ec-8117-4df353689361",
   "metadata": {},
   "outputs": [
    {
     "data": {
      "text/plain": "0"
     },
     "execution_count": 8,
     "metadata": {},
     "output_type": "execute_result"
    }
   ],
   "source": [
    "# Do this in numpy:\n",
    "empty_grid[0, 0]\n",
    "\n",
    "# Not this, even if it works, read why in the link above.\n",
    "# empty_grid[0][0]"
   ]
  },
  {
   "cell_type": "code",
   "execution_count": 10,
   "id": "6b2da7ea-7d94-4290-9725-64eeec517da3",
   "metadata": {},
   "outputs": [
    {
     "data": {
      "text/plain": [
       "numpy.ndarray"
      ]
     },
     "execution_count": 10,
     "metadata": {},
     "output_type": "execute_result"
    }
   ],
   "source": [
    "type(empty_grid)"
   ]
  },
  {
   "cell_type": "markdown",
   "id": "a02c8857-0bd8-4027-aa78-0edaecfd56ac",
   "metadata": {},
   "source": [
    "I want to convince the new programmer that the use of `numpy` is worthwhile,\n",
    "moreover, I want to convince you that our ***learning by doing*** approach is\n",
    "something that will naturally grow into a professional one.\n",
    "\n",
    "I hope you can picture your future self examining the `numpy` package as we have\n",
    "done together here. Surely with enough time you would come across a function\n",
    "`np.ndarray.take()`, perhaps in the tab-complete or call to `dir()`, or by\n",
    "simply skimming the reference documentation."
   ]
  },
  {
   "cell_type": "code",
   "execution_count": 10,
   "outputs": [
    {
     "name": "stdout",
     "output_type": "stream",
     "text": [
      "Help on function take in module numpy:\n",
      "\n",
      "take(a, indices, axis=None, out=None, mode='raise')\n",
      "    Take elements from an array along an axis.\n",
      "    \n",
      "    When axis is not None, this function does the same thing as \"fancy\"\n",
      "    indexing (indexing arrays using arrays); however, it can be easier to use\n",
      "    if you need elements along a given axis. A call such as\n",
      "    ``np.take(arr, indices, axis=3)`` is equivalent to\n",
      "    ``arr[:,:,:,indices,...]``.\n",
      "    \n",
      "    Explained without fancy indexing, this is equivalent to the following use\n",
      "    of `ndindex`, which sets each of ``ii``, ``jj``, and ``kk`` to a tuple of\n",
      "    indices::\n",
      "    \n",
      "        Ni, Nk = a.shape[:axis], a.shape[axis+1:]\n",
      "        Nj = indices.shape\n",
      "        for ii in ndindex(Ni):\n",
      "            for jj in ndindex(Nj):\n",
      "                for kk in ndindex(Nk):\n",
      "                    out[ii + jj + kk] = a[ii + (indices[jj],) + kk]\n",
      "    \n",
      "    Parameters\n",
      "    ----------\n",
      "    a : array_like (Ni..., M, Nk...)\n",
      "        The source array.\n",
      "    indices : array_like (Nj...)\n",
      "        The indices of the values to extract.\n",
      "    \n",
      "        .. versionadded:: 1.8.0\n",
      "    \n",
      "        Also allow scalars for indices.\n",
      "    axis : int, optional\n",
      "        The axis over which to select values. By default, the flattened\n",
      "        input array is used.\n",
      "    out : ndarray, optional (Ni..., Nj..., Nk...)\n",
      "        If provided, the result will be placed in this array. It should\n",
      "        be of the appropriate shape and dtype. Note that `out` is always\n",
      "        buffered if `mode='raise'`; use other modes for better performance.\n",
      "    mode : {'raise', 'wrap', 'clip'}, optional\n",
      "        Specifies how out-of-bounds indices will behave.\n",
      "    \n",
      "        * 'raise' -- raise an error (default)\n",
      "        * 'wrap' -- wrap around\n",
      "        * 'clip' -- clip to the range\n",
      "    \n",
      "        'clip' mode means that all indices that are too large are replaced\n",
      "        by the index that addresses the last element along that axis. Note\n",
      "        that this disables indexing with negative numbers.\n",
      "    \n",
      "    Returns\n",
      "    -------\n",
      "    out : ndarray (Ni..., Nj..., Nk...)\n",
      "        The returned array has the same type as `a`.\n",
      "    \n",
      "    See Also\n",
      "    --------\n",
      "    compress : Take elements using a boolean mask\n",
      "    ndarray.take : equivalent method\n",
      "    take_along_axis : Take elements by matching the array and the index arrays\n",
      "    \n",
      "    Notes\n",
      "    -----\n",
      "    \n",
      "    By eliminating the inner loop in the description above, and using `s_` to\n",
      "    build simple slice objects, `take` can be expressed  in terms of applying\n",
      "    fancy indexing to each 1-d slice::\n",
      "    \n",
      "        Ni, Nk = a.shape[:axis], a.shape[axis+1:]\n",
      "        for ii in ndindex(Ni):\n",
      "            for kk in ndindex(Nj):\n",
      "                out[ii + s_[...,] + kk] = a[ii + s_[:,] + kk][indices]\n",
      "    \n",
      "    For this reason, it is equivalent to (but faster than) the following use\n",
      "    of `apply_along_axis`::\n",
      "    \n",
      "        out = np.apply_along_axis(lambda a_1d: a_1d[indices], axis, a)\n",
      "    \n",
      "    Examples\n",
      "    --------\n",
      "    >>> a = [4, 3, 5, 7, 6, 8]\n",
      "    >>> indices = [0, 1, 4]\n",
      "    >>> np.take(a, indices)\n",
      "    array([4, 3, 6])\n",
      "    \n",
      "    In this example if `a` is an ndarray, \"fancy\" indexing can be used.\n",
      "    \n",
      "    >>> a = np.array(a)\n",
      "    >>> a[indices]\n",
      "    array([4, 3, 6])\n",
      "    \n",
      "    If `indices` is not one dimensional, the output also has these dimensions.\n",
      "    \n",
      "    >>> np.take(a, [[0, 1], [2, 3]])\n",
      "    array([[4, 3],\n",
      "           [5, 7]])\n",
      "\n"
     ]
    }
   ],
   "source": [
    "help(np.take)"
   ],
   "metadata": {
    "collapsed": false,
    "pycharm": {
     "name": "#%%\n"
    }
   }
  },
  {
   "cell_type": "markdown",
   "source": [
    "Check out that last parameter, or function option:\n",
    "```text\n",
    " mode : {'raise', 'wrap', 'clip'}, optional\n",
    "        Specifies how out-of-bounds indices will behave.\n",
    "\n",
    "        * 'raise' -- raise an error (default)\n",
    "        * 'wrap' -- wrap around\n",
    "        * 'clip' -- clip to the range\n",
    "\n",
    "        'clip' mode means that all indices that are too large are replaced\n",
    "        by the index that addresses the last element along that axis. Note\n",
    "        that this disables indexing with negative numbers.\n",
    "```"
   ],
   "metadata": {
    "collapsed": false,
    "pycharm": {
     "name": "#%% md\n"
    }
   }
  },
  {
   "cell_type": "markdown",
   "source": [
    "NumPy is an extremely powerful package that we have just barely touched on here. I\n",
    "encourage you to take a goal-oriented approach in exploring `numpy` (and other packages).\n",
    "Often times the lens provided by a problem or goal is required to clarify the 'why'\n",
    "to a program."
   ],
   "metadata": {
    "collapsed": false,
    "pycharm": {
     "name": "#%% md\n"
    }
   }
  },
  {
   "cell_type": "code",
   "execution_count": 13,
   "id": "bef2a37d-9b48-444e-bfbe-15f78ef40f8c",
   "metadata": {},
   "outputs": [
    {
     "data": {
      "text/plain": [
       "array([0, 0])"
      ]
     },
     "execution_count": 13,
     "metadata": {},
     "output_type": "execute_result"
    }
   ],
   "source": [
    "empty_grid.take([0, 8])"
   ]
  },
  {
   "cell_type": "markdown",
   "source": [
    "The challenge proposed here is to (again) implement the game of life, this time\n",
    "using a `numpy.ndarray` to model the grid."
   ],
   "metadata": {
    "collapsed": false,
    "pycharm": {
     "name": "#%% md\n"
    }
   }
  }
 ],
 "metadata": {
  "kernelspec": {
   "display_name": "pymc",
   "language": "python",
   "name": "pymc"
  },
  "language_info": {
   "codemirror_mode": {
    "name": "ipython",
    "version": 3
   },
   "file_extension": ".py",
   "mimetype": "text/x-python",
   "name": "python",
   "nbconvert_exporter": "python",
   "pygments_lexer": "ipython3",
   "version": "3.8.12"
  }
 },
 "nbformat": 4,
 "nbformat_minor": 5
}