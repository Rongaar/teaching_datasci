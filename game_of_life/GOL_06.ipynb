{
 "cells": [
  {
   "cell_type": "code",
   "execution_count": 1,
   "id": "4a127f6c-e0cb-4ea0-aae5-2593b3cecc48",
   "metadata": {
    "pycharm": {
     "is_executing": true,
     "name": "#%%\n"
    },
    "tags": []
   },
   "outputs": [],
   "source": [
    "import numpy as np\n",
    "from numpy.random import default_rng\n",
    "import cv2\n",
    "from scipy.signal import convolve\n",
    "from scipy.special import expit\n",
    "\n",
    "rng = default_rng()\n",
    "\n",
    "import matplotlib.pyplot as plt\n",
    "%matplotlib inline"
   ]
  },
  {
   "cell_type": "code",
   "execution_count": 14,
   "id": "350b7c16-909f-48a6-abaf-46e31c3128ce",
   "metadata": {
    "collapsed": false,
    "jupyter": {
     "outputs_hidden": false
    },
    "pycharm": {
     "name": "#%%\n"
    }
   },
   "outputs": [],
   "source": [
    "# from plotoptix import TkOptiX\n",
    "# # from plotoptix import NpOptiX\n",
    "\n",
    "# from plotoptix.materials import m_clear_glass, m_mirror, m_plastic\n",
    "# from plotoptix.utils import map_to_colors"
   ]
  },
  {
   "cell_type": "code",
   "execution_count": 15,
   "id": "bf07b057-7cbe-46d1-a7d5-fed1cf249276",
   "metadata": {
    "collapsed": false,
    "jupyter": {
     "outputs_hidden": false
    },
    "pycharm": {
     "name": "#%%\n"
    }
   },
   "outputs": [
    {
     "data": {
      "text/plain": [
       "961"
      ]
     },
     "execution_count": 15,
     "metadata": {},
     "output_type": "execute_result"
    }
   ],
   "source": [
    "# text_grid = np.zeros((text_image.shape[0], text_image.shape[1], 16), dtype=int)\n",
    "# for idx in range(7, 8):\n",
    "#     text_grid[:, :, idx] += text_image\n",
    "\n",
    "# text_grid.sum()"
   ]
  },
  {
   "cell_type": "code",
   "execution_count": 16,
   "id": "801acbbc-8cf8-4279-aa5f-add6ebc45fac",
   "metadata": {
    "collapsed": false,
    "jupyter": {
     "outputs_hidden": false
    },
    "pycharm": {
     "name": "#%%\n"
    }
   },
   "outputs": [
    {
     "name": "stdout",
     "output_type": "stream",
     "text": [
      "\tSelected devices: [0]\n",
      "\tPrimary device: 0\n"
     ]
    }
   ],
   "source": [
    "# optix = TkOptiX()\n",
    "\n",
    "# optix.setup_material(\"glass\", m_clear_glass)\n",
    "# optix.setup_material(\"plastic\", m_plastic)\n",
    "# m_clear_glass[\"VarFloat\"][\"radiation_length\"] = 0.95\n",
    "# m_clear_glass[\"VarFloat3\"][\"subsurface_color\"] = [ 0.7, 0.85, 1 ]\n",
    "# m_clear_glass[\"VarFloat3\"][\"surface_albedo\"] = [ 0.6, 0.8, 1 ]     # add some color to reflections\n",
    "# optix.update_material(\"glass\", m_clear_glass)\n",
    "\n",
    "\n",
    "# optix.set_param(min_accumulation_step=16,\n",
    "#                 max_accumulation_frames=256)\n",
    "\n",
    "# # data = np.argwhere(text_grid)\n",
    "# data = np.argwhere(gol_sim.grid)\n",
    "\n",
    "# cc = map_to_colors(data[:, 1], \"brg\")\n",
    "\n",
    "# optix.set_data(\n",
    "#     \"my plot\",\n",
    "#     pos=data,\n",
    "#     u=np.array([0.95, 0, 0]),\n",
    "#     v=np.array([0, 0.95, 0]),\n",
    "#     w=np.array([0, 0, 0.95]),\n",
    "#     geom=\"Parallelepipeds\",\n",
    "#     c=cc,\n",
    "#     mat=\"plastic\",\n",
    "# )\n",
    "\n",
    "# optix.set_data(\"plane\", geom=\"Parallelograms\", c=0.99,\n",
    "#                 pos=[0, 0, 0], u=[100, 0, 0], v=[0, 200, 0], w=[0, 0, 500])\n",
    "\n",
    "# optix.set_ambient([0.4, 0.6, 0.8])\n",
    "\n",
    "# exposure = 1.0\n",
    "# gamma = 1.0\n",
    "# optix.set_float(\"tonemap_exposure\", exposure)\n",
    "# optix.set_float(\"tonemap_gamma\", gamma)\n",
    "# optix.set_float(\"denoiser_blend\", 0.25)\n",
    "# optix.add_postproc(\"Denoiser\")\n",
    "# optix.add_postproc(\"Gamma\")\n",
    "\n",
    "# # Show coordinate box.\n",
    "# # optix.set_coordinates()\n",
    "\n",
    "# optix.set_background(0.99)\n",
    "# optix.set_ambient(0.85)\n",
    "\n",
    "# optix.setup_camera(\n",
    "#     \"cam1\",\n",
    "#     cam_type=\"ThinLens\",\n",
    "#     eye=np.array([3, 0.25, 2.2]) * 70,\n",
    "#     target=data.mean(axis=0).astype(int),\n",
    "#     up=[0, 0, 1],\n",
    "#     fov=18,\n",
    "#     focal_scale=.95)\n",
    "\n",
    "# optix.start()"
   ]
  },
  {
   "cell_type": "code",
   "execution_count": 2,
   "id": "24b995d7-e3c0-4d52-900f-e4ab7f67a9bc",
   "metadata": {
    "collapsed": false,
    "jupyter": {
     "outputs_hidden": false
    },
    "pycharm": {
     "is_executing": true,
     "name": "#%%\n"
    }
   },
   "outputs": [],
   "source": [
    "# conv_array = np.array([\n",
    "#     [[0, 0, 0], [0, 1, 0], [0, 0, 0]],\n",
    "#     [[0, 1, 0], [1, 1, 1], [0, 1, 0]],\n",
    "#     [[0, 0, 0], [0, 1, 0], [0, 0, 0]],\n",
    "# ])\n",
    "\n",
    "# plt.figure(figsize=(5,5)).add_subplot(projection='3d').voxels(conv_array);"
   ]
  },
  {
   "cell_type": "code",
   "execution_count": 3,
   "id": "1b39679a-52a5-4221-a3b2-9570976a4c20",
   "metadata": {
    "collapsed": false,
    "jupyter": {
     "outputs_hidden": false
    },
    "pycharm": {
     "name": "#%%\n"
    }
   },
   "outputs": [],
   "source": [
    "class GoLSimulation:\n",
    "\n",
    "    def __init__(self, grid):\n",
    "        self.grid = grid.astype(int)\n",
    "        self.grid_history = list([grid])\n",
    "\n",
    "    def step(self, x):\n",
    "        conv_array = np.ones((3, 3, 3))\n",
    "        nbrs_count = convolve(x, conv_array, mode='same') - x\n",
    "        return ((nbrs_count >= 3) | (x & (nbrs_count >= 2))) & (nbrs_count <= 5)\n",
    "\n",
    "    def simulate(self, n_iter:int):\n",
    "        for _ in range(n_iter):\n",
    "            new_grid = self.step(self.grid)\n",
    "            self.grid_history.append(new_grid)\n",
    "            self.grid = new_grid\n",
    "        return self\n",
    "\n",
    "    def _repr_png_(self):\n",
    "        plt.figure(figsize=(5,5)).add_subplot(projection='3d').voxels(self.grid)\n",
    "\n",
    "\n",
    "# grid_3d = np.zeros((25, 25, 25))\n",
    "# random_pop = (rng.random(grid_3d.shape) > 0.95).astype(int)\n",
    "\n",
    "# gol_sim = GoLSimulation(grid=random_pop)\n",
    "# gol_sim = gol_sim.simulate(5)\n",
    "# gol_sim"
   ]
  },
  {
   "cell_type": "code",
   "execution_count": 4,
   "id": "2bda5c6f-a877-4b9b-b260-4f5b70aa6081",
   "metadata": {},
   "outputs": [
    {
     "data": {
      "text/plain": [
       "961"
      ]
     },
     "execution_count": 4,
     "metadata": {},
     "output_type": "execute_result"
    }
   ],
   "source": [
    "image = np.zeros((100, 150, 3), np.uint8)\n",
    "\n",
    "position = (25, 60)\n",
    "\n",
    "cv2.putText(image, \"Praxis\",\n",
    "            position,\n",
    "            cv2.FONT_HERSHEY_PLAIN, #font family\n",
    "            2, #font size\n",
    "            (255, 255, 255, 255), #font color\n",
    "            3)\n",
    "text_image = (image[:, :, 0] > 0).astype(int)\n",
    "text_grid = np.zeros((text_image.shape[0], text_image.shape[1], 16), dtype=int)\n",
    "for idx in range(7, 8):\n",
    "    text_grid[:, :, idx] += text_image\n",
    "\n",
    "text_grid.sum()"
   ]
  },
  {
   "cell_type": "code",
   "execution_count": 5,
   "id": "19203fa9-b436-4300-9b86-6969fdb32bf0",
   "metadata": {},
   "outputs": [
    {
     "name": "stdout",
     "output_type": "stream",
     "text": [
      "CPU times: user 302 ms, sys: 68 ms, total: 370 ms\n",
      "Wall time: 369 ms\n"
     ]
    }
   ],
   "source": [
    "%%time\n",
    "gol_sim = GoLSimulation(grid=text_grid)\n",
    "gol_sim = gol_sim.simulate(12)"
   ]
  },
  {
   "cell_type": "code",
   "execution_count": 6,
   "id": "c764ba91-a605-47a9-9988-bbaf3f28a223",
   "metadata": {},
   "outputs": [],
   "source": [
    "# gol_sim"
   ]
  },
  {
   "cell_type": "code",
   "execution_count": 7,
   "id": "aad92150-fc1d-44cf-888f-c6b32557f50c",
   "metadata": {},
   "outputs": [
    {
     "name": "stdout",
     "output_type": "stream",
     "text": [
      "\t[0]: NVIDIA GeForce GTX 970\n"
     ]
    }
   ],
   "source": [
    "# from plotoptix import TkOptiX\n",
    "from plotoptix import NpOptiX\n",
    "from plotoptix.materials import m_clear_glass, m_mirror, m_plastic\n",
    "from plotoptix.utils import map_to_colors"
   ]
  },
  {
   "cell_type": "code",
   "execution_count": 8,
   "id": "6645f61c-f842-4a40-8a9e-b709f70b4b2e",
   "metadata": {},
   "outputs": [
    {
     "name": "stdout",
     "output_type": "stream",
     "text": [
      "\tSelected devices: [0]\n",
      "\tPrimary device: 0\n",
      "[INFO ][11:24:29] Encoding Parameters:\n",
      "\tcodec        : h264\n",
      "\tpreset       : default\n",
      "\tprofile      : high(h264)\n",
      "\tchroma       : yuv420\n",
      "\tbitdepth     : 8\n",
      "\trc           : constqp (P,B,I=28,31,25)\n",
      "\tfps          : 24/1\n",
      "\tgop          : 48\n",
      "\tbf           : 0\n",
      "\tsize         : 1920x1080\n",
      "\tbitrate      : 0\n",
      "\tmaxbitrate   : 0\n",
      "\tvbvbufsize   : 0\n",
      "\tvbvinit      : 0\n",
      "\taq           : disabled\n",
      "\ttemporalaq   : disabled\n",
      "\tlookahead    : disabled\n",
      "\tcq           : \u0000\n",
      "\tqmin         : P,B,I=0,0,0\n",
      "\tqmax         : P,B,I=0,0,0\n",
      "\tinitqp       : P,B,I=0,0,0\n"
     ]
    }
   ],
   "source": [
    "def size_flux(gen, n_frames, sim=gol_sim):\n",
    "    if gen == 0:\n",
    "        prev_pos = np.zeros_like(sim.grid_history[0])\n",
    "    else:\n",
    "        prev_pos = sim.grid_history[gen - 1]\n",
    "    curr_pos = sim.grid_history[gen]\n",
    "    \n",
    "    stable_cells = np.argwhere((prev_pos == 1) & (curr_pos == 1))\n",
    "    new_cells    = np.argwhere((prev_pos == 0) & (curr_pos == 1))\n",
    "    dying_cells  = np.argwhere((prev_pos == 1) & (curr_pos == 0))\n",
    "    \n",
    "    # starts = rng.choice(np.arange(4, 6), new_cells.shape[0])\n",
    "    # stops = rng.choice(np.arange(n_frames - 4, n_frames), new_cells.shape[0])\n",
    "    stable_cell_sizes = (1 - np.abs(np.sin(np.linspace(0, np.pi, n_frames)[:, np.newaxis])) * 0.15 * np.ones(stable_cells.shape[0]))\n",
    "    # stable_cell_sizes += rng.normal(size=stable_cell_sizes.shape[0])[:, np.newaxis] * 0.02\n",
    "    \n",
    "    starts = rng.choice(np.arange(4, 6), new_cells.shape[0])\n",
    "    stops = rng.choice(np.arange(n_frames - 4, n_frames), new_cells.shape[0])\n",
    "    xx = np.linspace(starts, stops, n_frames) - (n_frames/2)\n",
    "    new_cell_sizes = expit(xx)\n",
    "\n",
    "\n",
    "    starts = rng.choice(np.arange(4, 6), dying_cells.shape[0])\n",
    "    stops = rng.choice(np.arange(n_frames - 4, n_frames), dying_cells.shape[0])\n",
    "    xx = np.linspace(stops, starts, n_frames) - (n_frames/2)\n",
    "    dying_cell_sizes = expit(xx)\n",
    "\n",
    "    pos = np.vstack((stable_cells, new_cells, dying_cells))\n",
    "    sizes = np.hstack((stable_cell_sizes, new_cell_sizes, dying_cell_sizes))\n",
    "    # sizes += rng.normal(size=sizes.shape[0])[:, np.newaxis] * 0.05\n",
    "    return pos, sizes\n",
    "\n",
    "\n",
    "class params:\n",
    "    sim = gol_sim\n",
    "    n_gen = 12\n",
    "    gen_time = 2\n",
    "    fps = 24\n",
    "    width = 1920\n",
    "    height = 1080\n",
    "    \n",
    "    max_scale = 0.95\n",
    "    u = np.array([1, 0, 0]) * 1 /24\n",
    "    v = np.array([0, 1, 0]) * 1 /24\n",
    "    w = np.array([0, 0, 1]) * 1 /24\n",
    "    \n",
    "    pos, gen_uvw = size_flux(0, gen_time * fps)\n",
    "    \n",
    "    colors = map_to_colors(pos[:, 1], \"brg\")\n",
    "    frame = 0\n",
    "    \n",
    "    # Add some fancy camera jitter.\n",
    "    eye = np.array([3, 0.25, 2.2]) * 70\n",
    "    camera_x = eye[0]\n",
    "    camera_z = eye[2]\n",
    "    _tt = np.linspace(0, 2*np.pi, num=gen_time * fps * n_gen)\n",
    "    # print(_tt.shape)\n",
    "    camera_xx = 3 * np.cos(_tt) + camera_x\n",
    "    camera_zz = 8 * np.sin(_tt) + camera_z\n",
    "    \n",
    "    ffov = np.linspace(16, 20, gen_time * fps * n_gen)\n",
    "    fov = 16\n",
    "\n",
    "\n",
    "def init(rt):\n",
    "    rt.set_param(min_accumulation_step=16, max_accumulation_frames=500)\n",
    "    rt.set_float(\"tonemap_exposure\", 1.15)\n",
    "    rt.set_float(\"tonemap_gamma\", 1.0)\n",
    "    rt.set_float(\"denoiser_blend\", 0.15)\n",
    "    rt.add_postproc(\"Denoiser\")\n",
    "    rt.add_postproc(\"Gamma\")\n",
    "    rt.set_background(0.99)\n",
    "    rt.set_ambient(0.85)\n",
    "    rt.setup_material(\"plastic\", m_plastic)\n",
    "    rt.set_data(\"plot\", pos=params.pos, u=params.u, v=params.v, w=params.w,\n",
    "                geom=\"Parallelepipeds\", c=params.colors, mat=\"plastic\")\n",
    "    # Add a plane.\n",
    "    rt.set_data(\"plane\", geom=\"Parallelograms\", c=0.99,\n",
    "                pos=[-1000, 0, -1], u=[5000, 0, 0], v=[0, 1000, 0], w=[0, 0, 1000])\n",
    "    rt.setup_camera(\"cam1\", cam_type=\"ThinLens\", eye=params.eye,\n",
    "                    target=[50, 75, 6], up=[0, 0, 1], fov=18, focal_scale=.95)\n",
    "    \n",
    "\n",
    "\n",
    "    \n",
    "    \n",
    "def compute(rt: NpOptiX, delta: int) -> None:\n",
    "    params.frame += 1\n",
    "    gen = params.frame // (params.gen_time * params.fps)\n",
    "    gen_frame = params.frame % (params.gen_time * params.fps)\n",
    "    \n",
    "    if params.frame % (params.gen_time * params.fps) == 0:\n",
    "        # Update generation sizes.\n",
    "        pos, gen_uvw = size_flux(gen, params.gen_time * params.fps)\n",
    "        params.pos = pos\n",
    "        params.gen_uvw = gen_uvw\n",
    "        \n",
    "    # params.pos = params.pos + params.gen_uvw[gen_frame, :][:, np.newaxis] * params.max_scale\n",
    "    scale_broadcast = params.gen_uvw[gen_frame, :][:, np.newaxis] * params.max_scale\n",
    "    \n",
    "    params.camera_x = params.camera_xx[params.frame]\n",
    "    params.camera_z = params.camera_zz[params.frame]\n",
    "    \n",
    "    params.u = np.array([1, 0, 0]) * scale_broadcast\n",
    "    params.v = np.array([0, 1, 0]) * scale_broadcast\n",
    "    params.w = np.array([0, 0, 1]) * scale_broadcast\n",
    "    params.colors = map_to_colors(params.pos[:, 1], \"brg\")\n",
    "    params.fov = params.ffov[params.frame]\n",
    "    \n",
    "\n",
    "    \n",
    "\n",
    "\n",
    "\n",
    "def update(rt: NpOptiX) -> None:\n",
    "    rt.update_data(\"plot\", pos=params.pos, u=params.u, v=params.v, w=params.w, c=params.colors)\n",
    "    rt.update_camera(\"cam1\", eye=[params.camera_x , 35, params.camera_z], fov=params.fov)\n",
    "    if params.frame % params.fps == 0:\n",
    "        print(f'frame: {params.frame}')\n",
    "        rt.save_image(\"output/frame_{:05d}.png\".format(params.frame))\n",
    "\n",
    "    \n",
    "    \n",
    "\n",
    "\n",
    "optix = NpOptiX(on_initialization=init,\n",
    "                on_scene_compute=compute,\n",
    "                on_rt_completed=update,\n",
    "                width=params.width, \n",
    "                height=params.height,\n",
    "                start_now=False)\n",
    "\n",
    "\n",
    "optix.encoder_create(fps=params.fps, profile=\"High\")\n",
    "optix.start()\n",
    "optix.encoder_start(\"output/gol_HD2.mp4\", params.gen_time * params.fps * params.n_gen)"
   ]
  },
  {
   "cell_type": "code",
   "execution_count": 9,
   "id": "94317179-f5da-4634-959b-0970e546f256",
   "metadata": {},
   "outputs": [
    {
     "name": "stdout",
     "output_type": "stream",
     "text": [
      "576 0\n",
      "frame: 24\n",
      "frame: 48\n",
      "frame: 72\n",
      "frame: 96\n",
      "frame: 120\n",
      "frame: 144\n",
      "frame: 168\n",
      "frame: 192\n",
      "frame: 216\n",
      "frame: 240\n",
      "frame: 264\n",
      "frame: 288\n",
      "frame: 312\n",
      "frame: 336\n",
      "frame: 360\n",
      "frame: 384\n",
      "frame: 408\n",
      "frame: 432\n",
      "frame: 456\n",
      "frame: 480\n",
      "frame: 504\n",
      "frame: 528\n",
      "frame: 552\n"
     ]
    },
    {
     "name": "stderr",
     "output_type": "stream",
     "text": [
      "Exception ignored on calling ctypes callback function: <function NpOptiX._get_start_scene_compute_callback.<locals>.func at 0x7f0212ec00d0>\n",
      "Traceback (most recent call last):\n",
      "  File \"/home/tyer/anaconda3/envs/pymc/lib/python3.8/site-packages/plotoptix/npoptix.py\", line 796, in func\n",
      "    def func(n_frames : int): self._start_scene_compute_callback(n_frames)\n",
      "  File \"/home/tyer/anaconda3/envs/pymc/lib/python3.8/site-packages/plotoptix/npoptix.py\", line 794, in _start_scene_compute_callback\n",
      "    for c in self._scene_compute_cb: c(self, n_frames)\n",
      "  File \"/tmp/ipykernel_35221/663028693.py\", line 101, in compute\n",
      "IndexError: index 576 is out of bounds for axis 0 with size 576\n",
      "Exception ignored on calling ctypes callback function: <function NpOptiX._get_scene_rt_completed_callback.<locals>.func at 0x7f0212ec0160>\n",
      "Traceback (most recent call last):\n",
      "  File \"/home/tyer/anaconda3/envs/pymc/lib/python3.8/site-packages/plotoptix/npoptix.py\", line 839, in func\n",
      "    def func(rt_result : int): self._scene_rt_completed_callback(rt_result)\n",
      "  File \"/home/tyer/anaconda3/envs/pymc/lib/python3.8/site-packages/plotoptix/npoptix.py\", line 836, in _scene_rt_completed_callback\n",
      "    for c in self._rt_completed_cb: c(self)\n",
      "  File \"/tmp/ipykernel_35221/663028693.py\", line 116, in update\n",
      "  File \"/home/tyer/anaconda3/envs/pymc/lib/python3.8/site-packages/plotoptix/npoptix.py\", line 4076, in update_data\n",
      "    c = _make_contiguous_3d(c, n=n_primitives, extend_scalars=True)\n",
      "  File \"/home/tyer/anaconda3/envs/pymc/lib/python3.8/site-packages/plotoptix/utils.py\", line 95, in _make_contiguous_3d\n",
      "    raise ValueError(\"Input shape not matching desired array length.\")\n",
      "ValueError: Input shape not matching desired array length.\n",
      "Exception ignored on calling ctypes callback function: <function NpOptiX._get_start_scene_compute_callback.<locals>.func at 0x7f0212ec00d0>\n",
      "Traceback (most recent call last):\n",
      "  File \"/home/tyer/anaconda3/envs/pymc/lib/python3.8/site-packages/plotoptix/npoptix.py\", line 796, in func\n",
      "    def func(n_frames : int): self._start_scene_compute_callback(n_frames)\n",
      "  File \"/home/tyer/anaconda3/envs/pymc/lib/python3.8/site-packages/plotoptix/npoptix.py\", line 794, in _start_scene_compute_callback\n",
      "    for c in self._scene_compute_cb: c(self, n_frames)\n",
      "  File \"/tmp/ipykernel_35221/663028693.py\", line 101, in compute\n",
      "IndexError: index 577 is out of bounds for axis 0 with size 576\n",
      "Exception ignored on calling ctypes callback function: <function NpOptiX._get_scene_rt_completed_callback.<locals>.func at 0x7f0212ec0160>\n",
      "Traceback (most recent call last):\n",
      "  File \"/home/tyer/anaconda3/envs/pymc/lib/python3.8/site-packages/plotoptix/npoptix.py\", line 839, in func\n",
      "    def func(rt_result : int): self._scene_rt_completed_callback(rt_result)\n",
      "  File \"/home/tyer/anaconda3/envs/pymc/lib/python3.8/site-packages/plotoptix/npoptix.py\", line 836, in _scene_rt_completed_callback\n",
      "    for c in self._rt_completed_cb: c(self)\n",
      "  File \"/tmp/ipykernel_35221/663028693.py\", line 116, in update\n",
      "  File \"/home/tyer/anaconda3/envs/pymc/lib/python3.8/site-packages/plotoptix/npoptix.py\", line 4076, in update_data\n",
      "    c = _make_contiguous_3d(c, n=n_primitives, extend_scalars=True)\n",
      "  File \"/home/tyer/anaconda3/envs/pymc/lib/python3.8/site-packages/plotoptix/utils.py\", line 95, in _make_contiguous_3d\n",
      "    raise ValueError(\"Input shape not matching desired array length.\")\n",
      "ValueError: Input shape not matching desired array length.\n",
      "Exception ignored on calling ctypes callback function: <function NpOptiX._get_start_scene_compute_callback.<locals>.func at 0x7f0212ec00d0>\n",
      "Traceback (most recent call last):\n",
      "  File \"/home/tyer/anaconda3/envs/pymc/lib/python3.8/site-packages/plotoptix/npoptix.py\", line 796, in func\n",
      "    def func(n_frames : int): self._start_scene_compute_callback(n_frames)\n",
      "  File \"/home/tyer/anaconda3/envs/pymc/lib/python3.8/site-packages/plotoptix/npoptix.py\", line 794, in _start_scene_compute_callback\n",
      "    for c in self._scene_compute_cb: c(self, n_frames)\n",
      "  File \"/tmp/ipykernel_35221/663028693.py\", line 101, in compute\n",
      "IndexError: index 578 is out of bounds for axis 0 with size 576\n"
     ]
    }
   ],
   "source": [
    "print(optix.encoding_frames(), optix.encoded_frames())"
   ]
  },
  {
   "cell_type": "code",
   "execution_count": null,
   "id": "16c0ec28-49d2-4fc6-8832-ca8c659f44ef",
   "metadata": {},
   "outputs": [],
   "source": []
  },
  {
   "cell_type": "code",
   "execution_count": null,
   "id": "aa14ae1c-bbd7-4270-80ed-e54582079e27",
   "metadata": {},
   "outputs": [],
   "source": []
  },
  {
   "cell_type": "code",
   "execution_count": 12,
   "id": "6aee07f1-0681-4415-baf7-c4ab05943589",
   "metadata": {},
   "outputs": [],
   "source": [
    "optix.encoder_stop()"
   ]
  },
  {
   "cell_type": "code",
   "execution_count": 13,
   "id": "fb3fe0f7-9fed-49b8-a0a8-46497ebcc221",
   "metadata": {},
   "outputs": [
    {
     "ename": "AssertionError",
     "evalue": "Raytracing output already closed.",
     "output_type": "error",
     "traceback": [
      "\u001b[0;31m---------------------------------------------------------------------------\u001b[0m",
      "\u001b[0;31mAssertionError\u001b[0m                            Traceback (most recent call last)",
      "\u001b[0;32m/tmp/ipykernel_35221/2184577280.py\u001b[0m in \u001b[0;36m<module>\u001b[0;34m\u001b[0m\n\u001b[0;32m----> 1\u001b[0;31m \u001b[0moptix\u001b[0m\u001b[0;34m.\u001b[0m\u001b[0mclose\u001b[0m\u001b[0;34m(\u001b[0m\u001b[0;34m)\u001b[0m\u001b[0;34m\u001b[0m\u001b[0;34m\u001b[0m\u001b[0m\n\u001b[0m",
      "\u001b[0;32m~/anaconda3/envs/pymc/lib/python3.8/site-packages/plotoptix/npoptix.py\u001b[0m in \u001b[0;36mclose\u001b[0;34m(self)\u001b[0m\n\u001b[1;32m    470\u001b[0m         event for your UI and call this base implementation there).\n\u001b[1;32m    471\u001b[0m         \"\"\"\n\u001b[0;32m--> 472\u001b[0;31m         \u001b[0;32massert\u001b[0m \u001b[0;32mnot\u001b[0m \u001b[0mself\u001b[0m\u001b[0;34m.\u001b[0m\u001b[0m_is_closed\u001b[0m\u001b[0;34m,\u001b[0m \u001b[0;34m\"Raytracing output already closed.\"\u001b[0m\u001b[0;34m\u001b[0m\u001b[0;34m\u001b[0m\u001b[0m\n\u001b[0m\u001b[1;32m    473\u001b[0m         \u001b[0;32massert\u001b[0m \u001b[0mself\u001b[0m\u001b[0;34m.\u001b[0m\u001b[0m_is_started\u001b[0m\u001b[0;34m,\u001b[0m \u001b[0;34m\"Raytracing output not yet running.\"\u001b[0m\u001b[0;34m\u001b[0m\u001b[0;34m\u001b[0m\u001b[0m\n\u001b[1;32m    474\u001b[0m \u001b[0;34m\u001b[0m\u001b[0m\n",
      "\u001b[0;31mAssertionError\u001b[0m: Raytracing output already closed."
     ]
    }
   ],
   "source": [
    "optix.close()"
   ]
  },
  {
   "cell_type": "code",
   "execution_count": null,
   "id": "12bbbee5-dd83-458c-b828-87bf59fbe327",
   "metadata": {},
   "outputs": [],
   "source": []
  },
  {
   "cell_type": "code",
   "execution_count": 13,
   "id": "db4ce289-4517-461c-87fe-9e66aee52742",
   "metadata": {},
   "outputs": [],
   "source": [
    "# %%bash\n",
    "\n",
    "# ffmpeg -i 'output/gol_6.mp4' -vf reverse 'output/gol_6r.mp4'"
   ]
  },
  {
   "cell_type": "code",
   "execution_count": null,
   "id": "8dd1a1e3-29e1-4e49-a8da-ac02af3a28be",
   "metadata": {},
   "outputs": [],
   "source": []
  }
 ],
 "metadata": {
  "kernelspec": {
   "display_name": "pymc",
   "language": "python",
   "name": "pymc"
  },
  "language_info": {
   "codemirror_mode": {
    "name": "ipython",
    "version": 3
   },
   "file_extension": ".py",
   "mimetype": "text/x-python",
   "name": "python",
   "nbconvert_exporter": "python",
   "pygments_lexer": "ipython3",
   "version": "3.8.12"
  }
 },
 "nbformat": 4,
 "nbformat_minor": 5
}
