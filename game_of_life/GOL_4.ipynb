{
 "cells": [
  {
   "cell_type": "markdown",
   "id": "d0c92ab6-f0da-4c70-83c5-995e798afc67",
   "metadata": {},
   "source": [
    "# Three Ways to the Game of Life\n",
    "## The Third Way\n",
    "\n",
    "These are data-science lessons for learning Python. Rather than\n",
    "programming lessons. Were it the later we would care a whole\n",
    "bunch about programming our own solution to this problem.\n",
    "\n",
    "Instead of fretting over objects and types, perhaps we should\n",
    "just fret over the first step of our process:\n",
    "\n",
    "> Understand your computational goal to the degree that it could\n",
    "  theoretically be done 'by hand'.\n",
    "  \n",
    "Sure, we *can* do it by hand... But are you *sure* there isn't\n",
    "some other way to do this? It sure seems that every step of our\n",
    "program could be abstracted away from our purpose.\n",
    "\n",
    "Often times in doing data-science the more productive approach\n",
    "is one of mathematics and theory, rather than programming. This\n",
    "notebook aims to demonstrate that here.\n",
    "\n",
    "[source](https://holoviews.org/gallery/apps/bokeh/game_of_life.html)"
   ]
  },
  {
   "cell_type": "code",
   "execution_count": 1,
   "id": "4633254a-5358-45d8-9e8e-762acfc49441",
   "metadata": {},
   "outputs": [],
   "source": [
    "import numpy as np\n",
    "from scipy.signal import convolve2d"
   ]
  },
  {
   "cell_type": "code",
   "execution_count": 2,
   "id": "d7fb828e-cca3-4c88-b4c0-1f65baefd550",
   "metadata": {},
   "outputs": [],
   "source": [
    "def step(X):\n",
    "    \"\"\"Explain this function.\"\"\"\n",
    "    nbrs_count = convolve2d(X, np.ones((3, 3)), mode='same', boundary='wrap') - X\n",
    "    return (nbrs_count == 3) | (X & (nbrs_count == 2))"
   ]
  },
  {
   "cell_type": "code",
   "execution_count": null,
   "id": "8492f496-d2e0-4064-a1db-42d1141fac43",
   "metadata": {},
   "outputs": [],
   "source": []
  }
 ],
 "metadata": {
  "kernelspec": {
   "display_name": "pymc",
   "language": "python",
   "name": "pymc"
  },
  "language_info": {
   "codemirror_mode": {
    "name": "ipython",
    "version": 3
   },
   "file_extension": ".py",
   "mimetype": "text/x-python",
   "name": "python",
   "nbconvert_exporter": "python",
   "pygments_lexer": "ipython3",
   "version": "3.8.12"
  }
 },
 "nbformat": 4,
 "nbformat_minor": 5
}
